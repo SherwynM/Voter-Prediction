{
  "nbformat": 4,
  "nbformat_minor": 0,
  "metadata": {
    "colab": {
      "provenance": []
    },
    "kernelspec": {
      "name": "python3",
      "display_name": "Python 3"
    },
    "language_info": {
      "name": "python"
    }
  },
  "cells": [
    {
      "cell_type": "markdown",
      "source": [
        "<h1><b>Project : Voter Turnout Prediction for 2014 Election</b></h1>\n",
        "\n",
        "    -Done By: Sherwyn Tristen Diogo Misquitta"
      ],
      "metadata": {
        "id": "QG93Whj_fwT_"
      }
    },
    {
      "cell_type": "code",
      "execution_count": null,
      "metadata": {
        "id": "qA-AxANwPi81"
      },
      "outputs": [],
      "source": [
        "import pandas as pd\n",
        "import numpy as np\n",
        "import matplotlib.pyplot as plt\n",
        "import seaborn as sns"
      ]
    },
    {
      "cell_type": "code",
      "source": [
        "df=pd.read_csv('voterfile .csv')\n",
        "df.head(3)"
      ],
      "metadata": {
        "colab": {
          "base_uri": "https://localhost:8080/",
          "height": 332
        },
        "id": "HKs9tBt9eRJc",
        "outputId": "a9ec4748-208b-4f59-bebe-4743711ea5eb"
      },
      "execution_count": null,
      "outputs": [
        {
          "output_type": "execute_result",
          "data": {
            "text/plain": [
              "   optimus_id   age                 party ethnicity maritalstatus  \\\n",
              "0      861681  69.0            Republican  European       Married   \n",
              "1     1084850  20.0  American Independent  European           NaN   \n",
              "2      644435  28.0          Non-Partisan  European           NaN   \n",
              "\n",
              "                  dwellingtype    income                       education   cd  \\\n",
              "0  Single Family Dwelling Unit  75k-125k  Bach Degree - Extremely Likely  4.0   \n",
              "1                          NaN   Unknown                             NaN  2.0   \n",
              "2                          NaN   Unknown                             NaN  3.0   \n",
              "\n",
              "                    dma  ... intrst_musical_instruments_in_hh  \\\n",
              "0  LAS VEGAS DMA (EST.)  ...                              NaN   \n",
              "1       RENO DMA (EST.)  ...                              NaN   \n",
              "2  LAS VEGAS DMA (EST.)  ...                              NaN   \n",
              "\n",
              "   donates_to_liberal_causes  donates_to_conservative_causes  \\\n",
              "0                        NaN                             NaN   \n",
              "1                        NaN                             NaN   \n",
              "2                        NaN                             NaN   \n",
              "\n",
              "   home_owner_or_renter  g08_precinct_turnout  g10_precinct_turnout  \\\n",
              "0      Likely Homeowner                  0.56                  0.54   \n",
              "1                   NaN                  0.84                  0.82   \n",
              "2                   NaN                  0.49                  0.34   \n",
              "\n",
              "   g12_precinct_turnout  p08_precinct_turnout  p10_precinct_turnout  \\\n",
              "0                  0.75                  0.17                  0.32   \n",
              "1                  0.92                  0.47                  0.62   \n",
              "2                  0.70                  0.04                  0.09   \n",
              "\n",
              "   p12_precinct_turnout  \n",
              "0                  0.24  \n",
              "1                  0.47  \n",
              "2                  0.06  \n",
              "\n",
              "[3 rows x 39 columns]"
            ],
            "text/html": [
              "\n",
              "  <div id=\"df-5b05d7b1-5180-4a2b-953c-3eef43c33488\" class=\"colab-df-container\">\n",
              "    <div>\n",
              "<style scoped>\n",
              "    .dataframe tbody tr th:only-of-type {\n",
              "        vertical-align: middle;\n",
              "    }\n",
              "\n",
              "    .dataframe tbody tr th {\n",
              "        vertical-align: top;\n",
              "    }\n",
              "\n",
              "    .dataframe thead th {\n",
              "        text-align: right;\n",
              "    }\n",
              "</style>\n",
              "<table border=\"1\" class=\"dataframe\">\n",
              "  <thead>\n",
              "    <tr style=\"text-align: right;\">\n",
              "      <th></th>\n",
              "      <th>optimus_id</th>\n",
              "      <th>age</th>\n",
              "      <th>party</th>\n",
              "      <th>ethnicity</th>\n",
              "      <th>maritalstatus</th>\n",
              "      <th>dwellingtype</th>\n",
              "      <th>income</th>\n",
              "      <th>education</th>\n",
              "      <th>cd</th>\n",
              "      <th>dma</th>\n",
              "      <th>...</th>\n",
              "      <th>intrst_musical_instruments_in_hh</th>\n",
              "      <th>donates_to_liberal_causes</th>\n",
              "      <th>donates_to_conservative_causes</th>\n",
              "      <th>home_owner_or_renter</th>\n",
              "      <th>g08_precinct_turnout</th>\n",
              "      <th>g10_precinct_turnout</th>\n",
              "      <th>g12_precinct_turnout</th>\n",
              "      <th>p08_precinct_turnout</th>\n",
              "      <th>p10_precinct_turnout</th>\n",
              "      <th>p12_precinct_turnout</th>\n",
              "    </tr>\n",
              "  </thead>\n",
              "  <tbody>\n",
              "    <tr>\n",
              "      <th>0</th>\n",
              "      <td>861681</td>\n",
              "      <td>69.0</td>\n",
              "      <td>Republican</td>\n",
              "      <td>European</td>\n",
              "      <td>Married</td>\n",
              "      <td>Single Family Dwelling Unit</td>\n",
              "      <td>75k-125k</td>\n",
              "      <td>Bach Degree - Extremely Likely</td>\n",
              "      <td>4.0</td>\n",
              "      <td>LAS VEGAS DMA (EST.)</td>\n",
              "      <td>...</td>\n",
              "      <td>NaN</td>\n",
              "      <td>NaN</td>\n",
              "      <td>NaN</td>\n",
              "      <td>Likely Homeowner</td>\n",
              "      <td>0.56</td>\n",
              "      <td>0.54</td>\n",
              "      <td>0.75</td>\n",
              "      <td>0.17</td>\n",
              "      <td>0.32</td>\n",
              "      <td>0.24</td>\n",
              "    </tr>\n",
              "    <tr>\n",
              "      <th>1</th>\n",
              "      <td>1084850</td>\n",
              "      <td>20.0</td>\n",
              "      <td>American Independent</td>\n",
              "      <td>European</td>\n",
              "      <td>NaN</td>\n",
              "      <td>NaN</td>\n",
              "      <td>Unknown</td>\n",
              "      <td>NaN</td>\n",
              "      <td>2.0</td>\n",
              "      <td>RENO DMA (EST.)</td>\n",
              "      <td>...</td>\n",
              "      <td>NaN</td>\n",
              "      <td>NaN</td>\n",
              "      <td>NaN</td>\n",
              "      <td>NaN</td>\n",
              "      <td>0.84</td>\n",
              "      <td>0.82</td>\n",
              "      <td>0.92</td>\n",
              "      <td>0.47</td>\n",
              "      <td>0.62</td>\n",
              "      <td>0.47</td>\n",
              "    </tr>\n",
              "    <tr>\n",
              "      <th>2</th>\n",
              "      <td>644435</td>\n",
              "      <td>28.0</td>\n",
              "      <td>Non-Partisan</td>\n",
              "      <td>European</td>\n",
              "      <td>NaN</td>\n",
              "      <td>NaN</td>\n",
              "      <td>Unknown</td>\n",
              "      <td>NaN</td>\n",
              "      <td>3.0</td>\n",
              "      <td>LAS VEGAS DMA (EST.)</td>\n",
              "      <td>...</td>\n",
              "      <td>NaN</td>\n",
              "      <td>NaN</td>\n",
              "      <td>NaN</td>\n",
              "      <td>NaN</td>\n",
              "      <td>0.49</td>\n",
              "      <td>0.34</td>\n",
              "      <td>0.70</td>\n",
              "      <td>0.04</td>\n",
              "      <td>0.09</td>\n",
              "      <td>0.06</td>\n",
              "    </tr>\n",
              "  </tbody>\n",
              "</table>\n",
              "<p>3 rows × 39 columns</p>\n",
              "</div>\n",
              "    <div class=\"colab-df-buttons\">\n",
              "\n",
              "  <div class=\"colab-df-container\">\n",
              "    <button class=\"colab-df-convert\" onclick=\"convertToInteractive('df-5b05d7b1-5180-4a2b-953c-3eef43c33488')\"\n",
              "            title=\"Convert this dataframe to an interactive table.\"\n",
              "            style=\"display:none;\">\n",
              "\n",
              "  <svg xmlns=\"http://www.w3.org/2000/svg\" height=\"24px\" viewBox=\"0 -960 960 960\">\n",
              "    <path d=\"M120-120v-720h720v720H120Zm60-500h600v-160H180v160Zm220 220h160v-160H400v160Zm0 220h160v-160H400v160ZM180-400h160v-160H180v160Zm440 0h160v-160H620v160ZM180-180h160v-160H180v160Zm440 0h160v-160H620v160Z\"/>\n",
              "  </svg>\n",
              "    </button>\n",
              "\n",
              "  <style>\n",
              "    .colab-df-container {\n",
              "      display:flex;\n",
              "      gap: 12px;\n",
              "    }\n",
              "\n",
              "    .colab-df-convert {\n",
              "      background-color: #E8F0FE;\n",
              "      border: none;\n",
              "      border-radius: 50%;\n",
              "      cursor: pointer;\n",
              "      display: none;\n",
              "      fill: #1967D2;\n",
              "      height: 32px;\n",
              "      padding: 0 0 0 0;\n",
              "      width: 32px;\n",
              "    }\n",
              "\n",
              "    .colab-df-convert:hover {\n",
              "      background-color: #E2EBFA;\n",
              "      box-shadow: 0px 1px 2px rgba(60, 64, 67, 0.3), 0px 1px 3px 1px rgba(60, 64, 67, 0.15);\n",
              "      fill: #174EA6;\n",
              "    }\n",
              "\n",
              "    .colab-df-buttons div {\n",
              "      margin-bottom: 4px;\n",
              "    }\n",
              "\n",
              "    [theme=dark] .colab-df-convert {\n",
              "      background-color: #3B4455;\n",
              "      fill: #D2E3FC;\n",
              "    }\n",
              "\n",
              "    [theme=dark] .colab-df-convert:hover {\n",
              "      background-color: #434B5C;\n",
              "      box-shadow: 0px 1px 3px 1px rgba(0, 0, 0, 0.15);\n",
              "      filter: drop-shadow(0px 1px 2px rgba(0, 0, 0, 0.3));\n",
              "      fill: #FFFFFF;\n",
              "    }\n",
              "  </style>\n",
              "\n",
              "    <script>\n",
              "      const buttonEl =\n",
              "        document.querySelector('#df-5b05d7b1-5180-4a2b-953c-3eef43c33488 button.colab-df-convert');\n",
              "      buttonEl.style.display =\n",
              "        google.colab.kernel.accessAllowed ? 'block' : 'none';\n",
              "\n",
              "      async function convertToInteractive(key) {\n",
              "        const element = document.querySelector('#df-5b05d7b1-5180-4a2b-953c-3eef43c33488');\n",
              "        const dataTable =\n",
              "          await google.colab.kernel.invokeFunction('convertToInteractive',\n",
              "                                                    [key], {});\n",
              "        if (!dataTable) return;\n",
              "\n",
              "        const docLinkHtml = 'Like what you see? Visit the ' +\n",
              "          '<a target=\"_blank\" href=https://colab.research.google.com/notebooks/data_table.ipynb>data table notebook</a>'\n",
              "          + ' to learn more about interactive tables.';\n",
              "        element.innerHTML = '';\n",
              "        dataTable['output_type'] = 'display_data';\n",
              "        await google.colab.output.renderOutput(dataTable, element);\n",
              "        const docLink = document.createElement('div');\n",
              "        docLink.innerHTML = docLinkHtml;\n",
              "        element.appendChild(docLink);\n",
              "      }\n",
              "    </script>\n",
              "  </div>\n",
              "\n",
              "\n",
              "<div id=\"df-07220996-22e2-4f33-af5a-cfa234b03550\">\n",
              "  <button class=\"colab-df-quickchart\" onclick=\"quickchart('df-07220996-22e2-4f33-af5a-cfa234b03550')\"\n",
              "            title=\"Suggest charts\"\n",
              "            style=\"display:none;\">\n",
              "\n",
              "<svg xmlns=\"http://www.w3.org/2000/svg\" height=\"24px\"viewBox=\"0 0 24 24\"\n",
              "     width=\"24px\">\n",
              "    <g>\n",
              "        <path d=\"M19 3H5c-1.1 0-2 .9-2 2v14c0 1.1.9 2 2 2h14c1.1 0 2-.9 2-2V5c0-1.1-.9-2-2-2zM9 17H7v-7h2v7zm4 0h-2V7h2v10zm4 0h-2v-4h2v4z\"/>\n",
              "    </g>\n",
              "</svg>\n",
              "  </button>\n",
              "\n",
              "<style>\n",
              "  .colab-df-quickchart {\n",
              "      --bg-color: #E8F0FE;\n",
              "      --fill-color: #1967D2;\n",
              "      --hover-bg-color: #E2EBFA;\n",
              "      --hover-fill-color: #174EA6;\n",
              "      --disabled-fill-color: #AAA;\n",
              "      --disabled-bg-color: #DDD;\n",
              "  }\n",
              "\n",
              "  [theme=dark] .colab-df-quickchart {\n",
              "      --bg-color: #3B4455;\n",
              "      --fill-color: #D2E3FC;\n",
              "      --hover-bg-color: #434B5C;\n",
              "      --hover-fill-color: #FFFFFF;\n",
              "      --disabled-bg-color: #3B4455;\n",
              "      --disabled-fill-color: #666;\n",
              "  }\n",
              "\n",
              "  .colab-df-quickchart {\n",
              "    background-color: var(--bg-color);\n",
              "    border: none;\n",
              "    border-radius: 50%;\n",
              "    cursor: pointer;\n",
              "    display: none;\n",
              "    fill: var(--fill-color);\n",
              "    height: 32px;\n",
              "    padding: 0;\n",
              "    width: 32px;\n",
              "  }\n",
              "\n",
              "  .colab-df-quickchart:hover {\n",
              "    background-color: var(--hover-bg-color);\n",
              "    box-shadow: 0 1px 2px rgba(60, 64, 67, 0.3), 0 1px 3px 1px rgba(60, 64, 67, 0.15);\n",
              "    fill: var(--button-hover-fill-color);\n",
              "  }\n",
              "\n",
              "  .colab-df-quickchart-complete:disabled,\n",
              "  .colab-df-quickchart-complete:disabled:hover {\n",
              "    background-color: var(--disabled-bg-color);\n",
              "    fill: var(--disabled-fill-color);\n",
              "    box-shadow: none;\n",
              "  }\n",
              "\n",
              "  .colab-df-spinner {\n",
              "    border: 2px solid var(--fill-color);\n",
              "    border-color: transparent;\n",
              "    border-bottom-color: var(--fill-color);\n",
              "    animation:\n",
              "      spin 1s steps(1) infinite;\n",
              "  }\n",
              "\n",
              "  @keyframes spin {\n",
              "    0% {\n",
              "      border-color: transparent;\n",
              "      border-bottom-color: var(--fill-color);\n",
              "      border-left-color: var(--fill-color);\n",
              "    }\n",
              "    20% {\n",
              "      border-color: transparent;\n",
              "      border-left-color: var(--fill-color);\n",
              "      border-top-color: var(--fill-color);\n",
              "    }\n",
              "    30% {\n",
              "      border-color: transparent;\n",
              "      border-left-color: var(--fill-color);\n",
              "      border-top-color: var(--fill-color);\n",
              "      border-right-color: var(--fill-color);\n",
              "    }\n",
              "    40% {\n",
              "      border-color: transparent;\n",
              "      border-right-color: var(--fill-color);\n",
              "      border-top-color: var(--fill-color);\n",
              "    }\n",
              "    60% {\n",
              "      border-color: transparent;\n",
              "      border-right-color: var(--fill-color);\n",
              "    }\n",
              "    80% {\n",
              "      border-color: transparent;\n",
              "      border-right-color: var(--fill-color);\n",
              "      border-bottom-color: var(--fill-color);\n",
              "    }\n",
              "    90% {\n",
              "      border-color: transparent;\n",
              "      border-bottom-color: var(--fill-color);\n",
              "    }\n",
              "  }\n",
              "</style>\n",
              "\n",
              "  <script>\n",
              "    async function quickchart(key) {\n",
              "      const quickchartButtonEl =\n",
              "        document.querySelector('#' + key + ' button');\n",
              "      quickchartButtonEl.disabled = true;  // To prevent multiple clicks.\n",
              "      quickchartButtonEl.classList.add('colab-df-spinner');\n",
              "      try {\n",
              "        const charts = await google.colab.kernel.invokeFunction(\n",
              "            'suggestCharts', [key], {});\n",
              "      } catch (error) {\n",
              "        console.error('Error during call to suggestCharts:', error);\n",
              "      }\n",
              "      quickchartButtonEl.classList.remove('colab-df-spinner');\n",
              "      quickchartButtonEl.classList.add('colab-df-quickchart-complete');\n",
              "    }\n",
              "    (() => {\n",
              "      let quickchartButtonEl =\n",
              "        document.querySelector('#df-07220996-22e2-4f33-af5a-cfa234b03550 button');\n",
              "      quickchartButtonEl.style.display =\n",
              "        google.colab.kernel.accessAllowed ? 'block' : 'none';\n",
              "    })();\n",
              "  </script>\n",
              "</div>\n",
              "\n",
              "    </div>\n",
              "  </div>\n"
            ],
            "application/vnd.google.colaboratory.intrinsic+json": {
              "type": "dataframe",
              "variable_name": "df"
            }
          },
          "metadata": {},
          "execution_count": 24
        }
      ]
    },
    {
      "cell_type": "markdown",
      "source": [
        "<h1><b>Exploratory Data Analysis</h1></b>"
      ],
      "metadata": {
        "id": "lqAmCJ8JINO2"
      }
    },
    {
      "cell_type": "code",
      "source": [
        "df.shape"
      ],
      "metadata": {
        "colab": {
          "base_uri": "https://localhost:8080/"
        },
        "id": "4iplaxkAehlb",
        "outputId": "f25cd68f-d53d-4aa6-e85d-fbd3b222a62c"
      },
      "execution_count": null,
      "outputs": [
        {
          "output_type": "execute_result",
          "data": {
            "text/plain": [
              "(50000, 39)"
            ]
          },
          "metadata": {},
          "execution_count": 25
        }
      ]
    },
    {
      "cell_type": "code",
      "source": [
        "df.info()"
      ],
      "metadata": {
        "colab": {
          "base_uri": "https://localhost:8080/"
        },
        "id": "OmP2wKUJeka2",
        "outputId": "4bf880f0-d531-4194-c3ad-a671946d057b"
      },
      "execution_count": null,
      "outputs": [
        {
          "output_type": "stream",
          "name": "stdout",
          "text": [
            "<class 'pandas.core.frame.DataFrame'>\n",
            "RangeIndex: 50000 entries, 0 to 49999\n",
            "Data columns (total 39 columns):\n",
            " #   Column                            Non-Null Count  Dtype  \n",
            "---  ------                            --------------  -----  \n",
            " 0   optimus_id                        50000 non-null  int64  \n",
            " 1   age                               49983 non-null  float64\n",
            " 2   party                             50000 non-null  object \n",
            " 3   ethnicity                         44808 non-null  object \n",
            " 4   maritalstatus                     19362 non-null  object \n",
            " 5   dwellingtype                      23917 non-null  object \n",
            " 6   income                            50000 non-null  object \n",
            " 7   education                         27590 non-null  object \n",
            " 8   cd                                49996 non-null  float64\n",
            " 9   dma                               50000 non-null  object \n",
            " 10  occupationindustry                8192 non-null   object \n",
            " 11  vh14p                             50000 non-null  int64  \n",
            " 12  vh12g                             50000 non-null  int64  \n",
            " 13  vh12p                             50000 non-null  int64  \n",
            " 14  vh10g                             50000 non-null  int64  \n",
            " 15  vh10p                             50000 non-null  int64  \n",
            " 16  vh08g                             50000 non-null  int64  \n",
            " 17  vh08p                             50000 non-null  int64  \n",
            " 18  vh06g                             50000 non-null  int64  \n",
            " 19  vh06p                             50000 non-null  int64  \n",
            " 20  vh04g                             50000 non-null  int64  \n",
            " 21  vh04p                             50000 non-null  int64  \n",
            " 22  vh02g                             50000 non-null  int64  \n",
            " 23  vh02p                             50000 non-null  int64  \n",
            " 24  vh00g                             50000 non-null  int64  \n",
            " 25  vh00p                             50000 non-null  int64  \n",
            " 26  net_worth                         24052 non-null  object \n",
            " 27  petowner_dog                      4378 non-null   object \n",
            " 28  intrst_nascar_in_hh               2264 non-null   object \n",
            " 29  intrst_musical_instruments_in_hh  438 non-null    object \n",
            " 30  donates_to_liberal_causes         79 non-null     object \n",
            " 31  donates_to_conservative_causes    144 non-null    object \n",
            " 32  home_owner_or_renter              26191 non-null  object \n",
            " 33  g08_precinct_turnout              49999 non-null  float64\n",
            " 34  g10_precinct_turnout              49999 non-null  float64\n",
            " 35  g12_precinct_turnout              49999 non-null  float64\n",
            " 36  p08_precinct_turnout              49999 non-null  float64\n",
            " 37  p10_precinct_turnout              49999 non-null  float64\n",
            " 38  p12_precinct_turnout              49999 non-null  float64\n",
            "dtypes: float64(8), int64(16), object(15)\n",
            "memory usage: 14.9+ MB\n"
          ]
        }
      ]
    },
    {
      "cell_type": "code",
      "source": [
        "df.describe()"
      ],
      "metadata": {
        "colab": {
          "base_uri": "https://localhost:8080/",
          "height": 349
        },
        "id": "hvIduKwtfHYz",
        "outputId": "e8b913f2-0abe-4742-cadb-1d7c1149c50d"
      },
      "execution_count": null,
      "outputs": [
        {
          "output_type": "execute_result",
          "data": {
            "text/plain": [
              "         optimus_id           age            cd         vh14p        vh12g  \\\n",
              "count  5.000000e+04  49983.000000  49996.000000  50000.000000  50000.00000   \n",
              "mean   5.531076e+05     51.416402      2.582147      0.087500      0.26390   \n",
              "std    3.195294e+05     18.066456      1.071404      0.282569      0.44075   \n",
              "min    2.100000e+01     19.000000      1.000000      0.000000      0.00000   \n",
              "25%    2.773910e+05     36.000000      2.000000      0.000000      0.00000   \n",
              "50%    5.519550e+05     52.000000      3.000000      0.000000      0.00000   \n",
              "75%    8.310178e+05     65.000000      4.000000      0.000000      1.00000   \n",
              "max    1.105934e+06    100.000000      4.000000      1.000000      1.00000   \n",
              "\n",
              "              vh12p         vh10g         vh10p         vh08g        vh08p  \\\n",
              "count  50000.000000  50000.000000  50000.000000  50000.000000  50000.00000   \n",
              "mean       0.118340      0.431600      0.145080      0.355020      0.17798   \n",
              "std        0.323014      0.495304      0.352185      0.478524      0.38250   \n",
              "min        0.000000      0.000000      0.000000      0.000000      0.00000   \n",
              "25%        0.000000      0.000000      0.000000      0.000000      0.00000   \n",
              "50%        0.000000      0.000000      0.000000      0.000000      0.00000   \n",
              "75%        0.000000      1.000000      0.000000      1.000000      0.00000   \n",
              "max        1.000000      1.000000      1.000000      1.000000      1.00000   \n",
              "\n",
              "       ...         vh02g         vh02p         vh00g         vh00p  \\\n",
              "count  ...  50000.000000  50000.000000  50000.000000  50000.000000   \n",
              "mean   ...      0.741020      0.153720      0.472920      0.186920   \n",
              "std    ...      0.438079      0.360684      0.499271      0.389851   \n",
              "min    ...      0.000000      0.000000      0.000000      0.000000   \n",
              "25%    ...      0.000000      0.000000      0.000000      0.000000   \n",
              "50%    ...      1.000000      0.000000      0.000000      0.000000   \n",
              "75%    ...      1.000000      0.000000      1.000000      0.000000   \n",
              "max    ...      1.000000      1.000000      1.000000      1.000000   \n",
              "\n",
              "       g08_precinct_turnout  g10_precinct_turnout  g12_precinct_turnout  \\\n",
              "count          49999.000000          49999.000000          49999.000000   \n",
              "mean               0.620372              0.524364              0.742452   \n",
              "std                0.110721              0.130441              0.093793   \n",
              "min                0.000000              0.000000              0.300000   \n",
              "25%                0.550000              0.430000              0.690000   \n",
              "50%                0.630000              0.530000              0.750000   \n",
              "75%                0.700000              0.620000              0.810000   \n",
              "max                1.000000              1.000000              1.000000   \n",
              "\n",
              "       p08_precinct_turnout  p10_precinct_turnout  p12_precinct_turnout  \n",
              "count          49999.000000          49999.000000          49999.000000  \n",
              "mean               0.134266              0.232660              0.155691  \n",
              "std                0.078602              0.112521              0.085376  \n",
              "min                0.000000              0.000000              0.000000  \n",
              "25%                0.080000              0.150000              0.100000  \n",
              "50%                0.120000              0.210000              0.130000  \n",
              "75%                0.170000              0.300000              0.190000  \n",
              "max                1.000000              1.000000              1.000000  \n",
              "\n",
              "[8 rows x 24 columns]"
            ],
            "text/html": [
              "\n",
              "  <div id=\"df-65f08d27-0ed2-4bb9-91e9-52441d51bdc9\" class=\"colab-df-container\">\n",
              "    <div>\n",
              "<style scoped>\n",
              "    .dataframe tbody tr th:only-of-type {\n",
              "        vertical-align: middle;\n",
              "    }\n",
              "\n",
              "    .dataframe tbody tr th {\n",
              "        vertical-align: top;\n",
              "    }\n",
              "\n",
              "    .dataframe thead th {\n",
              "        text-align: right;\n",
              "    }\n",
              "</style>\n",
              "<table border=\"1\" class=\"dataframe\">\n",
              "  <thead>\n",
              "    <tr style=\"text-align: right;\">\n",
              "      <th></th>\n",
              "      <th>optimus_id</th>\n",
              "      <th>age</th>\n",
              "      <th>cd</th>\n",
              "      <th>vh14p</th>\n",
              "      <th>vh12g</th>\n",
              "      <th>vh12p</th>\n",
              "      <th>vh10g</th>\n",
              "      <th>vh10p</th>\n",
              "      <th>vh08g</th>\n",
              "      <th>vh08p</th>\n",
              "      <th>...</th>\n",
              "      <th>vh02g</th>\n",
              "      <th>vh02p</th>\n",
              "      <th>vh00g</th>\n",
              "      <th>vh00p</th>\n",
              "      <th>g08_precinct_turnout</th>\n",
              "      <th>g10_precinct_turnout</th>\n",
              "      <th>g12_precinct_turnout</th>\n",
              "      <th>p08_precinct_turnout</th>\n",
              "      <th>p10_precinct_turnout</th>\n",
              "      <th>p12_precinct_turnout</th>\n",
              "    </tr>\n",
              "  </thead>\n",
              "  <tbody>\n",
              "    <tr>\n",
              "      <th>count</th>\n",
              "      <td>5.000000e+04</td>\n",
              "      <td>49983.000000</td>\n",
              "      <td>49996.000000</td>\n",
              "      <td>50000.000000</td>\n",
              "      <td>50000.00000</td>\n",
              "      <td>50000.000000</td>\n",
              "      <td>50000.000000</td>\n",
              "      <td>50000.000000</td>\n",
              "      <td>50000.000000</td>\n",
              "      <td>50000.00000</td>\n",
              "      <td>...</td>\n",
              "      <td>50000.000000</td>\n",
              "      <td>50000.000000</td>\n",
              "      <td>50000.000000</td>\n",
              "      <td>50000.000000</td>\n",
              "      <td>49999.000000</td>\n",
              "      <td>49999.000000</td>\n",
              "      <td>49999.000000</td>\n",
              "      <td>49999.000000</td>\n",
              "      <td>49999.000000</td>\n",
              "      <td>49999.000000</td>\n",
              "    </tr>\n",
              "    <tr>\n",
              "      <th>mean</th>\n",
              "      <td>5.531076e+05</td>\n",
              "      <td>51.416402</td>\n",
              "      <td>2.582147</td>\n",
              "      <td>0.087500</td>\n",
              "      <td>0.26390</td>\n",
              "      <td>0.118340</td>\n",
              "      <td>0.431600</td>\n",
              "      <td>0.145080</td>\n",
              "      <td>0.355020</td>\n",
              "      <td>0.17798</td>\n",
              "      <td>...</td>\n",
              "      <td>0.741020</td>\n",
              "      <td>0.153720</td>\n",
              "      <td>0.472920</td>\n",
              "      <td>0.186920</td>\n",
              "      <td>0.620372</td>\n",
              "      <td>0.524364</td>\n",
              "      <td>0.742452</td>\n",
              "      <td>0.134266</td>\n",
              "      <td>0.232660</td>\n",
              "      <td>0.155691</td>\n",
              "    </tr>\n",
              "    <tr>\n",
              "      <th>std</th>\n",
              "      <td>3.195294e+05</td>\n",
              "      <td>18.066456</td>\n",
              "      <td>1.071404</td>\n",
              "      <td>0.282569</td>\n",
              "      <td>0.44075</td>\n",
              "      <td>0.323014</td>\n",
              "      <td>0.495304</td>\n",
              "      <td>0.352185</td>\n",
              "      <td>0.478524</td>\n",
              "      <td>0.38250</td>\n",
              "      <td>...</td>\n",
              "      <td>0.438079</td>\n",
              "      <td>0.360684</td>\n",
              "      <td>0.499271</td>\n",
              "      <td>0.389851</td>\n",
              "      <td>0.110721</td>\n",
              "      <td>0.130441</td>\n",
              "      <td>0.093793</td>\n",
              "      <td>0.078602</td>\n",
              "      <td>0.112521</td>\n",
              "      <td>0.085376</td>\n",
              "    </tr>\n",
              "    <tr>\n",
              "      <th>min</th>\n",
              "      <td>2.100000e+01</td>\n",
              "      <td>19.000000</td>\n",
              "      <td>1.000000</td>\n",
              "      <td>0.000000</td>\n",
              "      <td>0.00000</td>\n",
              "      <td>0.000000</td>\n",
              "      <td>0.000000</td>\n",
              "      <td>0.000000</td>\n",
              "      <td>0.000000</td>\n",
              "      <td>0.00000</td>\n",
              "      <td>...</td>\n",
              "      <td>0.000000</td>\n",
              "      <td>0.000000</td>\n",
              "      <td>0.000000</td>\n",
              "      <td>0.000000</td>\n",
              "      <td>0.000000</td>\n",
              "      <td>0.000000</td>\n",
              "      <td>0.300000</td>\n",
              "      <td>0.000000</td>\n",
              "      <td>0.000000</td>\n",
              "      <td>0.000000</td>\n",
              "    </tr>\n",
              "    <tr>\n",
              "      <th>25%</th>\n",
              "      <td>2.773910e+05</td>\n",
              "      <td>36.000000</td>\n",
              "      <td>2.000000</td>\n",
              "      <td>0.000000</td>\n",
              "      <td>0.00000</td>\n",
              "      <td>0.000000</td>\n",
              "      <td>0.000000</td>\n",
              "      <td>0.000000</td>\n",
              "      <td>0.000000</td>\n",
              "      <td>0.00000</td>\n",
              "      <td>...</td>\n",
              "      <td>0.000000</td>\n",
              "      <td>0.000000</td>\n",
              "      <td>0.000000</td>\n",
              "      <td>0.000000</td>\n",
              "      <td>0.550000</td>\n",
              "      <td>0.430000</td>\n",
              "      <td>0.690000</td>\n",
              "      <td>0.080000</td>\n",
              "      <td>0.150000</td>\n",
              "      <td>0.100000</td>\n",
              "    </tr>\n",
              "    <tr>\n",
              "      <th>50%</th>\n",
              "      <td>5.519550e+05</td>\n",
              "      <td>52.000000</td>\n",
              "      <td>3.000000</td>\n",
              "      <td>0.000000</td>\n",
              "      <td>0.00000</td>\n",
              "      <td>0.000000</td>\n",
              "      <td>0.000000</td>\n",
              "      <td>0.000000</td>\n",
              "      <td>0.000000</td>\n",
              "      <td>0.00000</td>\n",
              "      <td>...</td>\n",
              "      <td>1.000000</td>\n",
              "      <td>0.000000</td>\n",
              "      <td>0.000000</td>\n",
              "      <td>0.000000</td>\n",
              "      <td>0.630000</td>\n",
              "      <td>0.530000</td>\n",
              "      <td>0.750000</td>\n",
              "      <td>0.120000</td>\n",
              "      <td>0.210000</td>\n",
              "      <td>0.130000</td>\n",
              "    </tr>\n",
              "    <tr>\n",
              "      <th>75%</th>\n",
              "      <td>8.310178e+05</td>\n",
              "      <td>65.000000</td>\n",
              "      <td>4.000000</td>\n",
              "      <td>0.000000</td>\n",
              "      <td>1.00000</td>\n",
              "      <td>0.000000</td>\n",
              "      <td>1.000000</td>\n",
              "      <td>0.000000</td>\n",
              "      <td>1.000000</td>\n",
              "      <td>0.00000</td>\n",
              "      <td>...</td>\n",
              "      <td>1.000000</td>\n",
              "      <td>0.000000</td>\n",
              "      <td>1.000000</td>\n",
              "      <td>0.000000</td>\n",
              "      <td>0.700000</td>\n",
              "      <td>0.620000</td>\n",
              "      <td>0.810000</td>\n",
              "      <td>0.170000</td>\n",
              "      <td>0.300000</td>\n",
              "      <td>0.190000</td>\n",
              "    </tr>\n",
              "    <tr>\n",
              "      <th>max</th>\n",
              "      <td>1.105934e+06</td>\n",
              "      <td>100.000000</td>\n",
              "      <td>4.000000</td>\n",
              "      <td>1.000000</td>\n",
              "      <td>1.00000</td>\n",
              "      <td>1.000000</td>\n",
              "      <td>1.000000</td>\n",
              "      <td>1.000000</td>\n",
              "      <td>1.000000</td>\n",
              "      <td>1.00000</td>\n",
              "      <td>...</td>\n",
              "      <td>1.000000</td>\n",
              "      <td>1.000000</td>\n",
              "      <td>1.000000</td>\n",
              "      <td>1.000000</td>\n",
              "      <td>1.000000</td>\n",
              "      <td>1.000000</td>\n",
              "      <td>1.000000</td>\n",
              "      <td>1.000000</td>\n",
              "      <td>1.000000</td>\n",
              "      <td>1.000000</td>\n",
              "    </tr>\n",
              "  </tbody>\n",
              "</table>\n",
              "<p>8 rows × 24 columns</p>\n",
              "</div>\n",
              "    <div class=\"colab-df-buttons\">\n",
              "\n",
              "  <div class=\"colab-df-container\">\n",
              "    <button class=\"colab-df-convert\" onclick=\"convertToInteractive('df-65f08d27-0ed2-4bb9-91e9-52441d51bdc9')\"\n",
              "            title=\"Convert this dataframe to an interactive table.\"\n",
              "            style=\"display:none;\">\n",
              "\n",
              "  <svg xmlns=\"http://www.w3.org/2000/svg\" height=\"24px\" viewBox=\"0 -960 960 960\">\n",
              "    <path d=\"M120-120v-720h720v720H120Zm60-500h600v-160H180v160Zm220 220h160v-160H400v160Zm0 220h160v-160H400v160ZM180-400h160v-160H180v160Zm440 0h160v-160H620v160ZM180-180h160v-160H180v160Zm440 0h160v-160H620v160Z\"/>\n",
              "  </svg>\n",
              "    </button>\n",
              "\n",
              "  <style>\n",
              "    .colab-df-container {\n",
              "      display:flex;\n",
              "      gap: 12px;\n",
              "    }\n",
              "\n",
              "    .colab-df-convert {\n",
              "      background-color: #E8F0FE;\n",
              "      border: none;\n",
              "      border-radius: 50%;\n",
              "      cursor: pointer;\n",
              "      display: none;\n",
              "      fill: #1967D2;\n",
              "      height: 32px;\n",
              "      padding: 0 0 0 0;\n",
              "      width: 32px;\n",
              "    }\n",
              "\n",
              "    .colab-df-convert:hover {\n",
              "      background-color: #E2EBFA;\n",
              "      box-shadow: 0px 1px 2px rgba(60, 64, 67, 0.3), 0px 1px 3px 1px rgba(60, 64, 67, 0.15);\n",
              "      fill: #174EA6;\n",
              "    }\n",
              "\n",
              "    .colab-df-buttons div {\n",
              "      margin-bottom: 4px;\n",
              "    }\n",
              "\n",
              "    [theme=dark] .colab-df-convert {\n",
              "      background-color: #3B4455;\n",
              "      fill: #D2E3FC;\n",
              "    }\n",
              "\n",
              "    [theme=dark] .colab-df-convert:hover {\n",
              "      background-color: #434B5C;\n",
              "      box-shadow: 0px 1px 3px 1px rgba(0, 0, 0, 0.15);\n",
              "      filter: drop-shadow(0px 1px 2px rgba(0, 0, 0, 0.3));\n",
              "      fill: #FFFFFF;\n",
              "    }\n",
              "  </style>\n",
              "\n",
              "    <script>\n",
              "      const buttonEl =\n",
              "        document.querySelector('#df-65f08d27-0ed2-4bb9-91e9-52441d51bdc9 button.colab-df-convert');\n",
              "      buttonEl.style.display =\n",
              "        google.colab.kernel.accessAllowed ? 'block' : 'none';\n",
              "\n",
              "      async function convertToInteractive(key) {\n",
              "        const element = document.querySelector('#df-65f08d27-0ed2-4bb9-91e9-52441d51bdc9');\n",
              "        const dataTable =\n",
              "          await google.colab.kernel.invokeFunction('convertToInteractive',\n",
              "                                                    [key], {});\n",
              "        if (!dataTable) return;\n",
              "\n",
              "        const docLinkHtml = 'Like what you see? Visit the ' +\n",
              "          '<a target=\"_blank\" href=https://colab.research.google.com/notebooks/data_table.ipynb>data table notebook</a>'\n",
              "          + ' to learn more about interactive tables.';\n",
              "        element.innerHTML = '';\n",
              "        dataTable['output_type'] = 'display_data';\n",
              "        await google.colab.output.renderOutput(dataTable, element);\n",
              "        const docLink = document.createElement('div');\n",
              "        docLink.innerHTML = docLinkHtml;\n",
              "        element.appendChild(docLink);\n",
              "      }\n",
              "    </script>\n",
              "  </div>\n",
              "\n",
              "\n",
              "<div id=\"df-d0167dd9-84af-4243-a2e5-1180732ddec6\">\n",
              "  <button class=\"colab-df-quickchart\" onclick=\"quickchart('df-d0167dd9-84af-4243-a2e5-1180732ddec6')\"\n",
              "            title=\"Suggest charts\"\n",
              "            style=\"display:none;\">\n",
              "\n",
              "<svg xmlns=\"http://www.w3.org/2000/svg\" height=\"24px\"viewBox=\"0 0 24 24\"\n",
              "     width=\"24px\">\n",
              "    <g>\n",
              "        <path d=\"M19 3H5c-1.1 0-2 .9-2 2v14c0 1.1.9 2 2 2h14c1.1 0 2-.9 2-2V5c0-1.1-.9-2-2-2zM9 17H7v-7h2v7zm4 0h-2V7h2v10zm4 0h-2v-4h2v4z\"/>\n",
              "    </g>\n",
              "</svg>\n",
              "  </button>\n",
              "\n",
              "<style>\n",
              "  .colab-df-quickchart {\n",
              "      --bg-color: #E8F0FE;\n",
              "      --fill-color: #1967D2;\n",
              "      --hover-bg-color: #E2EBFA;\n",
              "      --hover-fill-color: #174EA6;\n",
              "      --disabled-fill-color: #AAA;\n",
              "      --disabled-bg-color: #DDD;\n",
              "  }\n",
              "\n",
              "  [theme=dark] .colab-df-quickchart {\n",
              "      --bg-color: #3B4455;\n",
              "      --fill-color: #D2E3FC;\n",
              "      --hover-bg-color: #434B5C;\n",
              "      --hover-fill-color: #FFFFFF;\n",
              "      --disabled-bg-color: #3B4455;\n",
              "      --disabled-fill-color: #666;\n",
              "  }\n",
              "\n",
              "  .colab-df-quickchart {\n",
              "    background-color: var(--bg-color);\n",
              "    border: none;\n",
              "    border-radius: 50%;\n",
              "    cursor: pointer;\n",
              "    display: none;\n",
              "    fill: var(--fill-color);\n",
              "    height: 32px;\n",
              "    padding: 0;\n",
              "    width: 32px;\n",
              "  }\n",
              "\n",
              "  .colab-df-quickchart:hover {\n",
              "    background-color: var(--hover-bg-color);\n",
              "    box-shadow: 0 1px 2px rgba(60, 64, 67, 0.3), 0 1px 3px 1px rgba(60, 64, 67, 0.15);\n",
              "    fill: var(--button-hover-fill-color);\n",
              "  }\n",
              "\n",
              "  .colab-df-quickchart-complete:disabled,\n",
              "  .colab-df-quickchart-complete:disabled:hover {\n",
              "    background-color: var(--disabled-bg-color);\n",
              "    fill: var(--disabled-fill-color);\n",
              "    box-shadow: none;\n",
              "  }\n",
              "\n",
              "  .colab-df-spinner {\n",
              "    border: 2px solid var(--fill-color);\n",
              "    border-color: transparent;\n",
              "    border-bottom-color: var(--fill-color);\n",
              "    animation:\n",
              "      spin 1s steps(1) infinite;\n",
              "  }\n",
              "\n",
              "  @keyframes spin {\n",
              "    0% {\n",
              "      border-color: transparent;\n",
              "      border-bottom-color: var(--fill-color);\n",
              "      border-left-color: var(--fill-color);\n",
              "    }\n",
              "    20% {\n",
              "      border-color: transparent;\n",
              "      border-left-color: var(--fill-color);\n",
              "      border-top-color: var(--fill-color);\n",
              "    }\n",
              "    30% {\n",
              "      border-color: transparent;\n",
              "      border-left-color: var(--fill-color);\n",
              "      border-top-color: var(--fill-color);\n",
              "      border-right-color: var(--fill-color);\n",
              "    }\n",
              "    40% {\n",
              "      border-color: transparent;\n",
              "      border-right-color: var(--fill-color);\n",
              "      border-top-color: var(--fill-color);\n",
              "    }\n",
              "    60% {\n",
              "      border-color: transparent;\n",
              "      border-right-color: var(--fill-color);\n",
              "    }\n",
              "    80% {\n",
              "      border-color: transparent;\n",
              "      border-right-color: var(--fill-color);\n",
              "      border-bottom-color: var(--fill-color);\n",
              "    }\n",
              "    90% {\n",
              "      border-color: transparent;\n",
              "      border-bottom-color: var(--fill-color);\n",
              "    }\n",
              "  }\n",
              "</style>\n",
              "\n",
              "  <script>\n",
              "    async function quickchart(key) {\n",
              "      const quickchartButtonEl =\n",
              "        document.querySelector('#' + key + ' button');\n",
              "      quickchartButtonEl.disabled = true;  // To prevent multiple clicks.\n",
              "      quickchartButtonEl.classList.add('colab-df-spinner');\n",
              "      try {\n",
              "        const charts = await google.colab.kernel.invokeFunction(\n",
              "            'suggestCharts', [key], {});\n",
              "      } catch (error) {\n",
              "        console.error('Error during call to suggestCharts:', error);\n",
              "      }\n",
              "      quickchartButtonEl.classList.remove('colab-df-spinner');\n",
              "      quickchartButtonEl.classList.add('colab-df-quickchart-complete');\n",
              "    }\n",
              "    (() => {\n",
              "      let quickchartButtonEl =\n",
              "        document.querySelector('#df-d0167dd9-84af-4243-a2e5-1180732ddec6 button');\n",
              "      quickchartButtonEl.style.display =\n",
              "        google.colab.kernel.accessAllowed ? 'block' : 'none';\n",
              "    })();\n",
              "  </script>\n",
              "</div>\n",
              "\n",
              "    </div>\n",
              "  </div>\n"
            ],
            "application/vnd.google.colaboratory.intrinsic+json": {
              "type": "dataframe"
            }
          },
          "metadata": {},
          "execution_count": 27
        }
      ]
    },
    {
      "cell_type": "markdown",
      "source": [
        "<h4>Field\tDescription</h4>\n",
        "<b>optimus_id:</b> Unique id assigned to each person </br>\n",
        "<b>age:</b>\tAge of registered voter</br>\n",
        "<b>party:</b>\tRegistered political party</br>\n",
        "<b>ethnicity:</b>\tModeled ethnicity</br>\n",
        "<b>marital:</b>\tModeled marital status</br>\n",
        "<b>dwellingtype:</b>\tDwelling type</br>\n",
        "<b>education:</b>\tModeled education (commercial data)</br>\n",
        "<b>cd:</b>\tCongressional district (geography)</br>\n",
        "<b>dma:</b>\tDesignated market area (geography)</br>\n",
        "<b>occupationindustry:</b>\tModeled occupational industry (commercial data)</br>\n",
        "<b>net_worth:</b>\tNet worth (commercial data)</br>\n",
        "<b>intrst_nascar_in_hh:</b>\tIndividual interested in NASCAR in household (commercial data)</br>\n",
        "<b>petowner_dog:</b>\tLikely to own a dog (commercial data)</br>\n",
        "<b>intrst_musical_instruments_in_hh:</b>\tIndividual with musical interests in household (commercial data)</br>\n",
        "<b>donates_to_liberal_causes:</b>\tDonates to liberal causes (commercial data)</br>\n",
        "<b>home_owner_or_renter:</b>\tHomeowner or renter (commercial data)\n",
        "</br>"
      ],
      "metadata": {
        "id": "RaZFrntWhQPy"
      }
    },
    {
      "cell_type": "code",
      "source": [
        "columns=df.filter(regex='^v')\n",
        "print(columns)\n"
      ],
      "metadata": {
        "colab": {
          "base_uri": "https://localhost:8080/"
        },
        "id": "A64gJ69bgyiC",
        "outputId": "7b06bb36-3b10-4b22-afb5-2b125bed2d29"
      },
      "execution_count": null,
      "outputs": [
        {
          "output_type": "stream",
          "name": "stdout",
          "text": [
            "       vh14p  vh12g  vh12p  vh10g  vh10p  vh08g  vh08p  vh06g  vh06p  vh04g  \\\n",
            "0          0      0      0      1      0      1      0      1      0      1   \n",
            "1          0      0      0      0      0      0      0      0      0      0   \n",
            "2          0      0      0      0      0      0      0      1      0      1   \n",
            "3          0      0      0      0      0      0      0      0      0      0   \n",
            "4          0      0      0      1      0      1      1      1      1      1   \n",
            "...      ...    ...    ...    ...    ...    ...    ...    ...    ...    ...   \n",
            "49995      0      0      0      0      0      0      0      0      0      0   \n",
            "49996      0      0      0      0      0      0      0      0      0      0   \n",
            "49997      0      0      0      0      0      0      0      0      0      0   \n",
            "49998      0      0      1      1      1      0      0      1      0      1   \n",
            "49999      0      0      0      0      0      0      0      0      0      0   \n",
            "\n",
            "       vh04p  vh02g  vh02p  vh00g  vh00p  \n",
            "0          0      1      0      1      0  \n",
            "1          0      0      0      0      0  \n",
            "2          0      0      0      0      0  \n",
            "3          0      0      0      0      0  \n",
            "4          1      1      1      1      1  \n",
            "...      ...    ...    ...    ...    ...  \n",
            "49995      0      1      0      0      0  \n",
            "49996      0      1      0      0      0  \n",
            "49997      0      0      0      1      0  \n",
            "49998      0      1      1      1      0  \n",
            "49999      0      0      0      0      0  \n",
            "\n",
            "[50000 rows x 15 columns]\n"
          ]
        }
      ]
    },
    {
      "cell_type": "markdown",
      "source": [
        "So we have\n",
        "\n",
        "**vh14:**  2014  primary </br>\n",
        "**vh12:**  2012  general and primary </br>\n",
        "**vh10:**  2010  general and primary </br>\n",
        "**vh08:**  2008  general and primary </br>\n",
        "**vh06:**  2006  general and primary </br>\n",
        "**vh04:**  2004  general and primary </br>\n",
        "**vh02:**  2002  general and primary </br>\n",
        "**vh00:**  2000  general and primary"
      ],
      "metadata": {
        "id": "JrB-wsn9mZ2b"
      }
    },
    {
      "cell_type": "code",
      "source": [
        "fig, axs = plt.subplots(5, 3, figsize=(15, 15))\n",
        "for i, col in enumerate(df.filter(like='vh').columns):\n",
        "    row=i//3\n",
        "    column_index=i%3\n",
        "    sns.countplot(x=col,data=df,ax=axs[row,column_index])\n",
        "    axs[row, column_index].set_title(f'Count Plot of {col} Values')\n",
        "plt.tight_layout()\n",
        "plt.show()"
      ],
      "metadata": {
        "colab": {
          "base_uri": "https://localhost:8080/",
          "height": 675
        },
        "id": "8lf6jsQVqut8",
        "outputId": "cf391c4f-8c64-47d8-c70b-71eefd3ebb10"
      },
      "execution_count": null,
      "outputs": [
        {
          "output_type": "display_data",
          "data": {
            "text/plain": [
              "<Figure size 1500x1500 with 15 Axes>"
            ],
            "image/png": "[encoded data removed]"
          },
          "metadata": {}
        }
      ]
    },
    {
      "cell_type": "code",
      "source": [
        "sns.histplot(data=df,x='age',bins=20,kde=True,color='brown')\n",
        "plt.title('Distribution of Age')\n",
        "plt.xlabel('Age')\n",
        "plt.ylabel('Count')\n",
        "plt.show()"
      ],
      "metadata": {
        "colab": {
          "base_uri": "https://localhost:8080/",
          "height": 472
        },
        "id": "oLArc5oVqP1S",
        "outputId": "2c7d375d-d94f-446a-a777-443c648e8093"
      },
      "execution_count": null,
      "outputs": [
        {
          "output_type": "display_data",
          "data": {
            "text/plain": [
              "<Figure size 640x480 with 1 Axes>"
            ],
            "image/png": "[encoded data removed]"
          },
          "metadata": {}
        }
      ]
    },
    {
      "cell_type": "code",
      "source": [
        "ethnicity=df['ethnicity'].value_counts()\n",
        "plt.bar(ethnicity.index, ethnicity)\n",
        "plt.title('Distribution of Ethnicity')\n",
        "plt.xlabel('Ethnicity')\n",
        "plt.ylabel('Count')\n",
        "plt.xticks(rotation=45)\n",
        "plt.show()"
      ],
      "metadata": {
        "colab": {
          "base_uri": "https://localhost:8080/",
          "height": 552
        },
        "id": "aWi6k7_ex854",
        "outputId": "19469162-0902-4b9a-ea41-402aec1d78b2"
      },
      "execution_count": null,
      "outputs": [
        {
          "output_type": "display_data",
          "data": {
            "text/plain": [
              "<Figure size 640x480 with 1 Axes>"
            ],
            "image/png": "[encoded data removed]"
          },
          "metadata": {}
        }
      ]
    },
    {
      "cell_type": "markdown",
      "source": [
        "<h1><b>Handling Inconsistent Values</b.</h1>"
      ],
      "metadata": {
        "id": "D9tvk4VN0HfE"
      }
    },
    {
      "cell_type": "code",
      "source": [
        "income_range=[\"0-35k\",\"35k-75k\",\"75k-125k\",\"125k-200k\",\"200k+\",\"unknown\"]"
      ],
      "metadata": {
        "id": "EoJK4Fc--bmz"
      },
      "execution_count": null,
      "outputs": []
    },
    {
      "cell_type": "code",
      "source": [
        "# Stripping the special characters\n",
        "def calc_median_income(income_range):\n",
        "    '''\n",
        "    Calculate median income from income range\n",
        "\n",
        "    '''\n",
        "\n",
        "    if \"+\" in income_range:\n",
        "      lower,_ = income_range.split(\"k+\")\n",
        "      lower=int(lower)*1000\n",
        "      upper=100000 #  any large value\n",
        "    elif \"-\" in income_range:\n",
        "      lower, upper =income_range.split(\"-\")\n",
        "      lower=int(lower.replace(\"k\",\"\"))*1000\n",
        "      upper=int(upper.replace(\"k\",\"\"))*1000\n",
        "    else:\n",
        "        return 'unknown'\n",
        "    median =(lower+upper) // 2\n",
        "    return median\n"
      ],
      "metadata": {
        "id": "Dg3TJ0IO5IaF"
      },
      "execution_count": null,
      "outputs": []
    },
    {
      "cell_type": "code",
      "source": [
        "df['income']=[calc_median_income(income) for income in df['income']]"
      ],
      "metadata": {
        "id": "vi7Jvajr56q5"
      },
      "execution_count": null,
      "outputs": []
    },
    {
      "cell_type": "code",
      "source": [
        "df['income'].value_counts()"
      ],
      "metadata": {
        "colab": {
          "base_uri": "https://localhost:8080/",
          "height": 303
        },
        "id": "ft9z3u46-e3b",
        "outputId": "19e28967-dcb3-4b92-98e9-a69553e1619d"
      },
      "execution_count": null,
      "outputs": [
        {
          "output_type": "execute_result",
          "data": {
            "text/plain": [
              "income\n",
              "unknown    19601\n",
              "55000      11435\n",
              "100000      9414\n",
              "17500       4186\n",
              "162500      3689\n",
              "150000      1675\n",
              "Name: count, dtype: int64"
            ],
            "text/html": [
              "<div>\n",
              "<style scoped>\n",
              "    .dataframe tbody tr th:only-of-type {\n",
              "        vertical-align: middle;\n",
              "    }\n",
              "\n",
              "    .dataframe tbody tr th {\n",
              "        vertical-align: top;\n",
              "    }\n",
              "\n",
              "    .dataframe thead th {\n",
              "        text-align: right;\n",
              "    }\n",
              "</style>\n",
              "<table border=\"1\" class=\"dataframe\">\n",
              "  <thead>\n",
              "    <tr style=\"text-align: right;\">\n",
              "      <th></th>\n",
              "      <th>count</th>\n",
              "    </tr>\n",
              "    <tr>\n",
              "      <th>income</th>\n",
              "      <th></th>\n",
              "    </tr>\n",
              "  </thead>\n",
              "  <tbody>\n",
              "    <tr>\n",
              "      <th>unknown</th>\n",
              "      <td>19601</td>\n",
              "    </tr>\n",
              "    <tr>\n",
              "      <th>55000</th>\n",
              "      <td>11435</td>\n",
              "    </tr>\n",
              "    <tr>\n",
              "      <th>100000</th>\n",
              "      <td>9414</td>\n",
              "    </tr>\n",
              "    <tr>\n",
              "      <th>17500</th>\n",
              "      <td>4186</td>\n",
              "    </tr>\n",
              "    <tr>\n",
              "      <th>162500</th>\n",
              "      <td>3689</td>\n",
              "    </tr>\n",
              "    <tr>\n",
              "      <th>150000</th>\n",
              "      <td>1675</td>\n",
              "    </tr>\n",
              "  </tbody>\n",
              "</table>\n",
              "</div><br><label><b>dtype:</b> int64</label>"
            ]
          },
          "metadata": {},
          "execution_count": 35
        }
      ]
    },
    {
      "cell_type": "code",
      "source": [
        "# Manually done after taking a look at the data\n",
        "#\n",
        "filtered_df=df[(df['age']>30) & (df['net_worth']=='$499999+')]\n",
        "print(len(filtered_df))\n",
        "df.loc[(df['age']>=30)&(df['net_worth']=='$499999+')&(df['income']=='unknown'),'income']=162500"
      ],
      "metadata": {
        "colab": {
          "base_uri": "https://localhost:8080/"
        },
        "id": "yh3OQQ-A_EDN",
        "outputId": "14832d6d-ed62-458b-dac9-54408af73669"
      },
      "execution_count": null,
      "outputs": [
        {
          "output_type": "stream",
          "name": "stdout",
          "text": [
            "2705\n"
          ]
        }
      ]
    },
    {
      "cell_type": "code",
      "source": [
        "filtered_df=df[(df['age']>30) & (df['net_worth']=='$250000-499999')]\n",
        "print(len(filtered_df))\n",
        "df.loc[(df['age']>=30)&(df['net_worth']=='$250000-499999')&(df['income']=='unknown'),'income']=100000"
      ],
      "metadata": {
        "colab": {
          "base_uri": "https://localhost:8080/"
        },
        "id": "FNhJ0HXQuJT4",
        "outputId": "df31877d-d452-4beb-c07e-b832983aa9ae"
      },
      "execution_count": null,
      "outputs": [
        {
          "output_type": "stream",
          "name": "stdout",
          "text": [
            "6784\n"
          ]
        }
      ]
    },
    {
      "cell_type": "code",
      "source": [
        "filtered_df=df[(df['age']>30) & (df['net_worth']=='$100000-249999')]\n",
        "print(filtered_df[['age','income','net_worth']])\n",
        "half_index=filtered_df.sample(frac=0.5).index\n",
        "df.loc[half_index,'income']=100000\n",
        "df.loc[filtered_df.index.difference(half_index),'income']=55000"
      ],
      "metadata": {
        "colab": {
          "base_uri": "https://localhost:8080/"
        },
        "id": "JalAAZ3lqRhD",
        "outputId": "2c1634da-0fa8-455d-b020-a4dd534fc878"
      },
      "execution_count": null,
      "outputs": [
        {
          "output_type": "stream",
          "name": "stdout",
          "text": [
            "        age  income       net_worth\n",
            "0      69.0  100000  $100000-249999\n",
            "8      53.0   55000  $100000-249999\n",
            "21     67.0   55000  $100000-249999\n",
            "22     65.0  100000  $100000-249999\n",
            "25     44.0  100000  $100000-249999\n",
            "...     ...     ...             ...\n",
            "49954  69.0  100000  $100000-249999\n",
            "49959  63.0   55000  $100000-249999\n",
            "49963  65.0  100000  $100000-249999\n",
            "49971  40.0  100000  $100000-249999\n",
            "49991  52.0  100000  $100000-249999\n",
            "\n",
            "[8814 rows x 3 columns]\n"
          ]
        }
      ]
    },
    {
      "cell_type": "markdown",
      "source": [
        "checkpoint"
      ],
      "metadata": {
        "id": "QSgmKiJ3w1hS"
      }
    },
    {
      "cell_type": "code",
      "source": [
        "filtered_df=df[(df['age']>30) & (df['net_worth']=='$50000-99999')]\n",
        "print(filtered_df[['age','income','net_worth']])\n",
        "df.loc[(df['age']>=30)&(df['net_worth']=='$50000-99999')&(df['income']=='unknown'),'income']=55000"
      ],
      "metadata": {
        "colab": {
          "base_uri": "https://localhost:8080/"
        },
        "id": "WEtEDLKmqiTi",
        "outputId": "0a33bcb8-8734-464d-f89e-54e8f81e68e6"
      },
      "execution_count": null,
      "outputs": [
        {
          "output_type": "stream",
          "name": "stdout",
          "text": [
            "        age   income     net_worth\n",
            "66     83.0    17500  $50000-99999\n",
            "76     66.0    17500  $50000-99999\n",
            "115    78.0  unknown  $50000-99999\n",
            "119    55.0   100000  $50000-99999\n",
            "176    56.0    55000  $50000-99999\n",
            "...     ...      ...           ...\n",
            "49810  66.0    17500  $50000-99999\n",
            "49837  76.0    55000  $50000-99999\n",
            "49932  65.0    55000  $50000-99999\n",
            "49957  59.0  unknown  $50000-99999\n",
            "49966  59.0   100000  $50000-99999\n",
            "\n",
            "[1277 rows x 3 columns]\n"
          ]
        }
      ]
    },
    {
      "cell_type": "code",
      "source": [
        "filtered_df=df[(df['age']>30) & (df['net_worth']=='$100000-249999')& (df['income']==55000)]\n",
        "print(len(filtered_df))\n",
        "df.loc[(df['age']>=30)&(df['net_worth']=='$100000-249999')&(df['income']=='unknown'),'income']=55000\n",
        "df.loc[(df['age']<30)&(df['net_worth']=='$100000-249999')&(df['income']=='unknown'),'income']=17500"
      ],
      "metadata": {
        "colab": {
          "base_uri": "https://localhost:8080/"
        },
        "id": "JKMGtf-usTVL",
        "outputId": "463ac052-ac17-4bbd-af36-69db75e049a2"
      },
      "execution_count": null,
      "outputs": [
        {
          "output_type": "stream",
          "name": "stdout",
          "text": [
            "4407\n"
          ]
        }
      ]
    },
    {
      "cell_type": "code",
      "source": [
        "df['income'].value_counts()"
      ],
      "metadata": {
        "colab": {
          "base_uri": "https://localhost:8080/",
          "height": 303
        },
        "id": "gW4dc6sNs89Y",
        "outputId": "79a2dacb-7bef-4348-da83-be652493f58b"
      },
      "execution_count": null,
      "outputs": [
        {
          "output_type": "execute_result",
          "data": {
            "text/plain": [
              "income\n",
              "unknown    18088\n",
              "55000      12684\n",
              "100000     11208\n",
              "17500       3636\n",
              "162500      2995\n",
              "150000      1389\n",
              "Name: count, dtype: int64"
            ],
            "text/html": [
              "<div>\n",
              "<style scoped>\n",
              "    .dataframe tbody tr th:only-of-type {\n",
              "        vertical-align: middle;\n",
              "    }\n",
              "\n",
              "    .dataframe tbody tr th {\n",
              "        vertical-align: top;\n",
              "    }\n",
              "\n",
              "    .dataframe thead th {\n",
              "        text-align: right;\n",
              "    }\n",
              "</style>\n",
              "<table border=\"1\" class=\"dataframe\">\n",
              "  <thead>\n",
              "    <tr style=\"text-align: right;\">\n",
              "      <th></th>\n",
              "      <th>count</th>\n",
              "    </tr>\n",
              "    <tr>\n",
              "      <th>income</th>\n",
              "      <th></th>\n",
              "    </tr>\n",
              "  </thead>\n",
              "  <tbody>\n",
              "    <tr>\n",
              "      <th>unknown</th>\n",
              "      <td>18088</td>\n",
              "    </tr>\n",
              "    <tr>\n",
              "      <th>55000</th>\n",
              "      <td>12684</td>\n",
              "    </tr>\n",
              "    <tr>\n",
              "      <th>100000</th>\n",
              "      <td>11208</td>\n",
              "    </tr>\n",
              "    <tr>\n",
              "      <th>17500</th>\n",
              "      <td>3636</td>\n",
              "    </tr>\n",
              "    <tr>\n",
              "      <th>162500</th>\n",
              "      <td>2995</td>\n",
              "    </tr>\n",
              "    <tr>\n",
              "      <th>150000</th>\n",
              "      <td>1389</td>\n",
              "    </tr>\n",
              "  </tbody>\n",
              "</table>\n",
              "</div><br><label><b>dtype:</b> int64</label>"
            ]
          },
          "metadata": {},
          "execution_count": 41
        }
      ]
    },
    {
      "cell_type": "code",
      "source": [
        "# For the remaining unknown values , Split the rows having 'unknown' into 4 parts\n",
        "unknowns_i_rows=df[df['income']=='unknown']\n",
        "rows=len(unknowns_i_rows)\n",
        "nums_per_grp=rows//4\n",
        "income_values=[100000,55000,162500,150000]\n",
        "for i in range(4):\n",
        "    start_index=i*nums_per_grp\n",
        "    end_index=(i+1)*nums_per_grp\n",
        "    df.loc[unknowns_i_rows.index[start_index:end_index],'income']=income_values[i]\n",
        "df['income'].value_counts()"
      ],
      "metadata": {
        "colab": {
          "base_uri": "https://localhost:8080/",
          "height": 272
        },
        "id": "Nxs4USv_ynIl",
        "outputId": "d8e9f2d0-a5fd-46f8-fcd0-daa33baf4776"
      },
      "execution_count": null,
      "outputs": [
        {
          "output_type": "execute_result",
          "data": {
            "text/plain": [
              "income\n",
              "55000     17206\n",
              "100000    15730\n",
              "162500     7517\n",
              "150000     5911\n",
              "17500      3636\n",
              "Name: count, dtype: int64"
            ],
            "text/html": [
              "<div>\n",
              "<style scoped>\n",
              "    .dataframe tbody tr th:only-of-type {\n",
              "        vertical-align: middle;\n",
              "    }\n",
              "\n",
              "    .dataframe tbody tr th {\n",
              "        vertical-align: top;\n",
              "    }\n",
              "\n",
              "    .dataframe thead th {\n",
              "        text-align: right;\n",
              "    }\n",
              "</style>\n",
              "<table border=\"1\" class=\"dataframe\">\n",
              "  <thead>\n",
              "    <tr style=\"text-align: right;\">\n",
              "      <th></th>\n",
              "      <th>count</th>\n",
              "    </tr>\n",
              "    <tr>\n",
              "      <th>income</th>\n",
              "      <th></th>\n",
              "    </tr>\n",
              "  </thead>\n",
              "  <tbody>\n",
              "    <tr>\n",
              "      <th>55000</th>\n",
              "      <td>17206</td>\n",
              "    </tr>\n",
              "    <tr>\n",
              "      <th>100000</th>\n",
              "      <td>15730</td>\n",
              "    </tr>\n",
              "    <tr>\n",
              "      <th>162500</th>\n",
              "      <td>7517</td>\n",
              "    </tr>\n",
              "    <tr>\n",
              "      <th>150000</th>\n",
              "      <td>5911</td>\n",
              "    </tr>\n",
              "    <tr>\n",
              "      <th>17500</th>\n",
              "      <td>3636</td>\n",
              "    </tr>\n",
              "  </tbody>\n",
              "</table>\n",
              "</div><br><label><b>dtype:</b> int64</label>"
            ]
          },
          "metadata": {},
          "execution_count": 42
        }
      ]
    },
    {
      "cell_type": "code",
      "source": [
        "#df[(df['age'].isnull())& (df['income']==162500)]\n",
        "df.loc[(df['age'].isnull()) & (df['income']>=100000),'age'] = df['age'].median()"
      ],
      "metadata": {
        "id": "DOYCrQDgI7D1"
      },
      "execution_count": null,
      "outputs": []
    },
    {
      "cell_type": "code",
      "source": [
        "df['cd'].dropna(inplace=True)\n",
        "df['dma'].dropna(inplace=True)"
      ],
      "metadata": {
        "id": "pnTSuhTMQoEX"
      },
      "execution_count": null,
      "outputs": []
    },
    {
      "cell_type": "code",
      "source": [
        "df.isnull().sum()"
      ],
      "metadata": {
        "colab": {
          "base_uri": "https://localhost:8080/",
          "height": 1000
        },
        "id": "h-xo_ecemsI7",
        "outputId": "97e32b1b-1383-451e-81ce-df4102183c2c"
      },
      "execution_count": null,
      "outputs": [
        {
          "output_type": "execute_result",
          "data": {
            "text/plain": [
              "optimus_id                              0\n",
              "age                                     4\n",
              "party                                   0\n",
              "ethnicity                            5192\n",
              "maritalstatus                       30638\n",
              "dwellingtype                        26083\n",
              "income                                  0\n",
              "education                           22410\n",
              "cd                                      4\n",
              "dma                                     0\n",
              "occupationindustry                  41808\n",
              "vh14p                                   0\n",
              "vh12g                                   0\n",
              "vh12p                                   0\n",
              "vh10g                                   0\n",
              "vh10p                                   0\n",
              "vh08g                                   0\n",
              "vh08p                                   0\n",
              "vh06g                                   0\n",
              "vh06p                                   0\n",
              "vh04g                                   0\n",
              "vh04p                                   0\n",
              "vh02g                                   0\n",
              "vh02p                                   0\n",
              "vh00g                                   0\n",
              "vh00p                                   0\n",
              "net_worth                           25948\n",
              "petowner_dog                        45622\n",
              "intrst_nascar_in_hh                 47736\n",
              "intrst_musical_instruments_in_hh    49562\n",
              "donates_to_liberal_causes           49921\n",
              "donates_to_conservative_causes      49856\n",
              "home_owner_or_renter                23809\n",
              "g08_precinct_turnout                    1\n",
              "g10_precinct_turnout                    1\n",
              "g12_precinct_turnout                    1\n",
              "p08_precinct_turnout                    1\n",
              "p10_precinct_turnout                    1\n",
              "p12_precinct_turnout                    1\n",
              "dtype: int64"
            ],
            "text/html": [
              "<div>\n",
              "<style scoped>\n",
              "    .dataframe tbody tr th:only-of-type {\n",
              "        vertical-align: middle;\n",
              "    }\n",
              "\n",
              "    .dataframe tbody tr th {\n",
              "        vertical-align: top;\n",
              "    }\n",
              "\n",
              "    .dataframe thead th {\n",
              "        text-align: right;\n",
              "    }\n",
              "</style>\n",
              "<table border=\"1\" class=\"dataframe\">\n",
              "  <thead>\n",
              "    <tr style=\"text-align: right;\">\n",
              "      <th></th>\n",
              "      <th>0</th>\n",
              "    </tr>\n",
              "  </thead>\n",
              "  <tbody>\n",
              "    <tr>\n",
              "      <th>optimus_id</th>\n",
              "      <td>0</td>\n",
              "    </tr>\n",
              "    <tr>\n",
              "      <th>age</th>\n",
              "      <td>4</td>\n",
              "    </tr>\n",
              "    <tr>\n",
              "      <th>party</th>\n",
              "      <td>0</td>\n",
              "    </tr>\n",
              "    <tr>\n",
              "      <th>ethnicity</th>\n",
              "      <td>5192</td>\n",
              "    </tr>\n",
              "    <tr>\n",
              "      <th>maritalstatus</th>\n",
              "      <td>30638</td>\n",
              "    </tr>\n",
              "    <tr>\n",
              "      <th>dwellingtype</th>\n",
              "      <td>26083</td>\n",
              "    </tr>\n",
              "    <tr>\n",
              "      <th>income</th>\n",
              "      <td>0</td>\n",
              "    </tr>\n",
              "    <tr>\n",
              "      <th>education</th>\n",
              "      <td>22410</td>\n",
              "    </tr>\n",
              "    <tr>\n",
              "      <th>cd</th>\n",
              "      <td>4</td>\n",
              "    </tr>\n",
              "    <tr>\n",
              "      <th>dma</th>\n",
              "      <td>0</td>\n",
              "    </tr>\n",
              "    <tr>\n",
              "      <th>occupationindustry</th>\n",
              "      <td>41808</td>\n",
              "    </tr>\n",
              "    <tr>\n",
              "      <th>vh14p</th>\n",
              "      <td>0</td>\n",
              "    </tr>\n",
              "    <tr>\n",
              "      <th>vh12g</th>\n",
              "      <td>0</td>\n",
              "    </tr>\n",
              "    <tr>\n",
              "      <th>vh12p</th>\n",
              "      <td>0</td>\n",
              "    </tr>\n",
              "    <tr>\n",
              "      <th>vh10g</th>\n",
              "      <td>0</td>\n",
              "    </tr>\n",
              "    <tr>\n",
              "      <th>vh10p</th>\n",
              "      <td>0</td>\n",
              "    </tr>\n",
              "    <tr>\n",
              "      <th>vh08g</th>\n",
              "      <td>0</td>\n",
              "    </tr>\n",
              "    <tr>\n",
              "      <th>vh08p</th>\n",
              "      <td>0</td>\n",
              "    </tr>\n",
              "    <tr>\n",
              "      <th>vh06g</th>\n",
              "      <td>0</td>\n",
              "    </tr>\n",
              "    <tr>\n",
              "      <th>vh06p</th>\n",
              "      <td>0</td>\n",
              "    </tr>\n",
              "    <tr>\n",
              "      <th>vh04g</th>\n",
              "      <td>0</td>\n",
              "    </tr>\n",
              "    <tr>\n",
              "      <th>vh04p</th>\n",
              "      <td>0</td>\n",
              "    </tr>\n",
              "    <tr>\n",
              "      <th>vh02g</th>\n",
              "      <td>0</td>\n",
              "    </tr>\n",
              "    <tr>\n",
              "      <th>vh02p</th>\n",
              "      <td>0</td>\n",
              "    </tr>\n",
              "    <tr>\n",
              "      <th>vh00g</th>\n",
              "      <td>0</td>\n",
              "    </tr>\n",
              "    <tr>\n",
              "      <th>vh00p</th>\n",
              "      <td>0</td>\n",
              "    </tr>\n",
              "    <tr>\n",
              "      <th>net_worth</th>\n",
              "      <td>25948</td>\n",
              "    </tr>\n",
              "    <tr>\n",
              "      <th>petowner_dog</th>\n",
              "      <td>45622</td>\n",
              "    </tr>\n",
              "    <tr>\n",
              "      <th>intrst_nascar_in_hh</th>\n",
              "      <td>47736</td>\n",
              "    </tr>\n",
              "    <tr>\n",
              "      <th>intrst_musical_instruments_in_hh</th>\n",
              "      <td>49562</td>\n",
              "    </tr>\n",
              "    <tr>\n",
              "      <th>donates_to_liberal_causes</th>\n",
              "      <td>49921</td>\n",
              "    </tr>\n",
              "    <tr>\n",
              "      <th>donates_to_conservative_causes</th>\n",
              "      <td>49856</td>\n",
              "    </tr>\n",
              "    <tr>\n",
              "      <th>home_owner_or_renter</th>\n",
              "      <td>23809</td>\n",
              "    </tr>\n",
              "    <tr>\n",
              "      <th>g08_precinct_turnout</th>\n",
              "      <td>1</td>\n",
              "    </tr>\n",
              "    <tr>\n",
              "      <th>g10_precinct_turnout</th>\n",
              "      <td>1</td>\n",
              "    </tr>\n",
              "    <tr>\n",
              "      <th>g12_precinct_turnout</th>\n",
              "      <td>1</td>\n",
              "    </tr>\n",
              "    <tr>\n",
              "      <th>p08_precinct_turnout</th>\n",
              "      <td>1</td>\n",
              "    </tr>\n",
              "    <tr>\n",
              "      <th>p10_precinct_turnout</th>\n",
              "      <td>1</td>\n",
              "    </tr>\n",
              "    <tr>\n",
              "      <th>p12_precinct_turnout</th>\n",
              "      <td>1</td>\n",
              "    </tr>\n",
              "  </tbody>\n",
              "</table>\n",
              "</div><br><label><b>dtype:</b> int64</label>"
            ]
          },
          "metadata": {},
          "execution_count": 45
        }
      ]
    },
    {
      "cell_type": "code",
      "source": [
        "df['age'].fillna(df['age'].median(),inplace=True)"
      ],
      "metadata": {
        "colab": {
          "base_uri": "https://localhost:8080/"
        },
        "id": "2_dxxRlklJnd",
        "outputId": "234a30e3-906e-4b92-b613-e7a53afff61b"
      },
      "execution_count": null,
      "outputs": [
        {
          "output_type": "stream",
          "name": "stderr",
          "text": [
            "<ipython-input-46-bc8dbcfd9072>:1: FutureWarning: A value is trying to be set on a copy of a DataFrame or Series through chained assignment using an inplace method.\n",
            "The behavior will change in pandas 3.0. This inplace method will never work because the intermediate object on which we are setting values always behaves as a copy.\n",
            "\n",
            "For example, when doing 'df[col].method(value, inplace=True)', try using 'df.method({col: value}, inplace=True)' or df[col] = df[col].method(value) instead, to perform the operation inplace on the original object.\n",
            "\n",
            "\n",
            "  df['age'].fillna(df['age'].median(),inplace=True)\n"
          ]
        }
      ]
    },
    {
      "cell_type": "code",
      "source": [
        "df['cd'].fillna(df['cd'].median(),inplace=True)"
      ],
      "metadata": {
        "colab": {
          "base_uri": "https://localhost:8080/"
        },
        "id": "pad9_JMGjtQ_",
        "outputId": "56133bb4-f7ba-4b3d-ebf1-ffb3f40ad271"
      },
      "execution_count": null,
      "outputs": [
        {
          "output_type": "stream",
          "name": "stderr",
          "text": [
            "<ipython-input-47-525b26431d57>:1: FutureWarning: A value is trying to be set on a copy of a DataFrame or Series through chained assignment using an inplace method.\n",
            "The behavior will change in pandas 3.0. This inplace method will never work because the intermediate object on which we are setting values always behaves as a copy.\n",
            "\n",
            "For example, when doing 'df[col].method(value, inplace=True)', try using 'df.method({col: value}, inplace=True)' or df[col] = df[col].method(value) instead, to perform the operation inplace on the original object.\n",
            "\n",
            "\n",
            "  df['cd'].fillna(df['cd'].median(),inplace=True)\n"
          ]
        }
      ]
    },
    {
      "cell_type": "code",
      "source": [
        "#Ordering is irrelevant hence Hot Encoding\n",
        "from sklearn.preprocessing import OneHotEncoder\n",
        "encoder=OneHotEncoder(sparse_output=False)\n",
        "encoder_party_col=encoder.fit_transform(df[['party']])\n",
        "encoded_df=pd.DataFrame(encoder_party_col,columns=encoder.get_feature_names_out(['party']))\n",
        "df=pd.concat([df,encoded_df],axis=1)\n",
        "df.drop('party',axis=1,inplace=True)\n"
      ],
      "metadata": {
        "id": "wgY7E8eQe9Oq"
      },
      "execution_count": null,
      "outputs": []
    },
    {
      "cell_type": "code",
      "source": [
        "features = ['age', 'income','party_Democratic','cd','party_Non-Partisan','party_Republican']"
      ],
      "metadata": {
        "id": "ipfsPJOteRkV"
      },
      "execution_count": null,
      "outputs": []
    },
    {
      "cell_type": "code",
      "source": [
        "features"
      ],
      "metadata": {
        "colab": {
          "base_uri": "https://localhost:8080/"
        },
        "id": "Z52S29RIiUcq",
        "outputId": "caa9278a-14d2-49f4-c698-66bb17817c77"
      },
      "execution_count": null,
      "outputs": [
        {
          "output_type": "execute_result",
          "data": {
            "text/plain": [
              "['age',\n",
              " 'income',\n",
              " 'party_Democratic',\n",
              " 'cd',\n",
              " 'party_Non-Partisan',\n",
              " 'party_Republican']"
            ]
          },
          "metadata": {},
          "execution_count": 50
        }
      ]
    },
    {
      "cell_type": "code",
      "source": [
        "from sklearn.preprocessing import MinMaxScaler\n",
        "\n",
        "mm=MinMaxScaler()\n",
        "df['income']=mm.fit_transform(df['income'].values.reshape(-1,1))\n"
      ],
      "metadata": {
        "id": "W-rLteko484X"
      },
      "execution_count": null,
      "outputs": []
    },
    {
      "cell_type": "code",
      "source": [
        "df['income'].describe()"
      ],
      "metadata": {
        "colab": {
          "base_uri": "https://localhost:8080/",
          "height": 335
        },
        "id": "kfJ4UMML5uaj",
        "outputId": "3690ca39-9d0d-494c-ff8a-5df03028bf0b"
      },
      "execution_count": null,
      "outputs": [
        {
          "output_type": "execute_result",
          "data": {
            "text/plain": [
              "count    50000.000000\n",
              "mean         0.526362\n",
              "std          0.311224\n",
              "min          0.000000\n",
              "25%          0.258621\n",
              "50%          0.568966\n",
              "75%          0.913793\n",
              "max          1.000000\n",
              "Name: income, dtype: float64"
            ],
            "text/html": [
              "<div>\n",
              "<style scoped>\n",
              "    .dataframe tbody tr th:only-of-type {\n",
              "        vertical-align: middle;\n",
              "    }\n",
              "\n",
              "    .dataframe tbody tr th {\n",
              "        vertical-align: top;\n",
              "    }\n",
              "\n",
              "    .dataframe thead th {\n",
              "        text-align: right;\n",
              "    }\n",
              "</style>\n",
              "<table border=\"1\" class=\"dataframe\">\n",
              "  <thead>\n",
              "    <tr style=\"text-align: right;\">\n",
              "      <th></th>\n",
              "      <th>income</th>\n",
              "    </tr>\n",
              "  </thead>\n",
              "  <tbody>\n",
              "    <tr>\n",
              "      <th>count</th>\n",
              "      <td>50000.000000</td>\n",
              "    </tr>\n",
              "    <tr>\n",
              "      <th>mean</th>\n",
              "      <td>0.526362</td>\n",
              "    </tr>\n",
              "    <tr>\n",
              "      <th>std</th>\n",
              "      <td>0.311224</td>\n",
              "    </tr>\n",
              "    <tr>\n",
              "      <th>min</th>\n",
              "      <td>0.000000</td>\n",
              "    </tr>\n",
              "    <tr>\n",
              "      <th>25%</th>\n",
              "      <td>0.258621</td>\n",
              "    </tr>\n",
              "    <tr>\n",
              "      <th>50%</th>\n",
              "      <td>0.568966</td>\n",
              "    </tr>\n",
              "    <tr>\n",
              "      <th>75%</th>\n",
              "      <td>0.913793</td>\n",
              "    </tr>\n",
              "    <tr>\n",
              "      <th>max</th>\n",
              "      <td>1.000000</td>\n",
              "    </tr>\n",
              "  </tbody>\n",
              "</table>\n",
              "</div><br><label><b>dtype:</b> float64</label>"
            ]
          },
          "metadata": {},
          "execution_count": 52
        }
      ]
    },
    {
      "cell_type": "code",
      "source": [
        "# Took the mean of all the election results and fixed a threshold\n",
        "df['predicting_vh14g']=(df[['vh14p','vh12p','vh10p','vh08p','vh06p','vh04p','vh02p','vh00p','vh12g','vh10g','vh08g','vh06g','vh04g','vh02g','vh00g']].mean(axis=1)>=0.5).astype(int)"
      ],
      "metadata": {
        "id": "pgXCKRMJVzFK"
      },
      "execution_count": null,
      "outputs": []
    },
    {
      "cell_type": "code",
      "source": [
        "Y=df['predicting_vh14g']=df['predicting_vh14g'].astype(int)"
      ],
      "metadata": {
        "id": "M7UMA-YKXUku"
      },
      "execution_count": null,
      "outputs": []
    },
    {
      "cell_type": "code",
      "source": [
        "df['predicting_vh14g'].value_counts(normalize=True)"
      ],
      "metadata": {
        "colab": {
          "base_uri": "https://localhost:8080/",
          "height": 178
        },
        "id": "lViLPyblk5_f",
        "outputId": "76857175-5107-435f-f8ab-f8fe90cfe3c0"
      },
      "execution_count": null,
      "outputs": [
        {
          "output_type": "execute_result",
          "data": {
            "text/plain": [
              "predicting_vh14g\n",
              "0    0.77114\n",
              "1    0.22886\n",
              "Name: proportion, dtype: float64"
            ],
            "text/html": [
              "<div>\n",
              "<style scoped>\n",
              "    .dataframe tbody tr th:only-of-type {\n",
              "        vertical-align: middle;\n",
              "    }\n",
              "\n",
              "    .dataframe tbody tr th {\n",
              "        vertical-align: top;\n",
              "    }\n",
              "\n",
              "    .dataframe thead th {\n",
              "        text-align: right;\n",
              "    }\n",
              "</style>\n",
              "<table border=\"1\" class=\"dataframe\">\n",
              "  <thead>\n",
              "    <tr style=\"text-align: right;\">\n",
              "      <th></th>\n",
              "      <th>proportion</th>\n",
              "    </tr>\n",
              "    <tr>\n",
              "      <th>predicting_vh14g</th>\n",
              "      <th></th>\n",
              "    </tr>\n",
              "  </thead>\n",
              "  <tbody>\n",
              "    <tr>\n",
              "      <th>0</th>\n",
              "      <td>0.77114</td>\n",
              "    </tr>\n",
              "    <tr>\n",
              "      <th>1</th>\n",
              "      <td>0.22886</td>\n",
              "    </tr>\n",
              "  </tbody>\n",
              "</table>\n",
              "</div><br><label><b>dtype:</b> float64</label>"
            ]
          },
          "metadata": {},
          "execution_count": 55
        }
      ]
    },
    {
      "cell_type": "markdown",
      "source": [
        "<h1><b>Splitting the Dataset</b></h1>"
      ],
      "metadata": {
        "id": "LGe9IAAzSUuU"
      }
    },
    {
      "cell_type": "code",
      "source": [
        "X=df[features]\n",
        "print(X)\n",
        "print(Y)"
      ],
      "metadata": {
        "colab": {
          "base_uri": "https://localhost:8080/"
        },
        "id": "qEpKgxzKS1E1",
        "outputId": "50848cf2-6407-47d9-c782-210853e318aa"
      },
      "execution_count": null,
      "outputs": [
        {
          "output_type": "stream",
          "name": "stdout",
          "text": [
            "        age    income  party_Democratic   cd  party_Non-Partisan  \\\n",
            "0      69.0  0.258621               0.0  4.0                 0.0   \n",
            "1      20.0  0.568966               0.0  2.0                 0.0   \n",
            "2      28.0  0.568966               0.0  3.0                 1.0   \n",
            "3      78.0  0.568966               0.0  3.0                 0.0   \n",
            "4      68.0  0.568966               1.0  4.0                 0.0   \n",
            "...     ...       ...               ...  ...                 ...   \n",
            "49995  23.0  1.000000               0.0  3.0                 0.0   \n",
            "49996  24.0  0.258621               1.0  1.0                 0.0   \n",
            "49997  28.0  0.258621               0.0  1.0                 1.0   \n",
            "49998  49.0  0.568966               0.0  4.0                 0.0   \n",
            "49999  69.0  0.258621               0.0  2.0                 0.0   \n",
            "\n",
            "       party_Republican  \n",
            "0                   1.0  \n",
            "1                   0.0  \n",
            "2                   0.0  \n",
            "3                   0.0  \n",
            "4                   0.0  \n",
            "...                 ...  \n",
            "49995               0.0  \n",
            "49996               0.0  \n",
            "49997               0.0  \n",
            "49998               1.0  \n",
            "49999               0.0  \n",
            "\n",
            "[50000 rows x 6 columns]\n",
            "0        0\n",
            "1        0\n",
            "2        0\n",
            "3        0\n",
            "4        1\n",
            "        ..\n",
            "49995    0\n",
            "49996    0\n",
            "49997    0\n",
            "49998    1\n",
            "49999    0\n",
            "Name: predicting_vh14g, Length: 50000, dtype: int64\n"
          ]
        }
      ]
    },
    {
      "cell_type": "code",
      "source": [
        "from sklearn.model_selection import train_test_split\n",
        "X_train,X_test,Y_train,Y_test=train_test_split(X,Y,test_size=0.2,random_state=42)"
      ],
      "metadata": {
        "id": "8GSqkeCNSDld"
      },
      "execution_count": null,
      "outputs": []
    },
    {
      "cell_type": "markdown",
      "source": [
        "<h1><b>Model Building</b></h1>"
      ],
      "metadata": {
        "id": "gmF-VXifKfDb"
      }
    },
    {
      "cell_type": "code",
      "source": [
        "!pip install optuna"
      ],
      "metadata": {
        "colab": {
          "base_uri": "https://localhost:8080/"
        },
        "id": "QbVz7hPHVXLE",
        "outputId": "35c1bd9e-44bf-4454-b302-99234a7d06ba"
      },
      "execution_count": null,
      "outputs": [
        {
          "output_type": "stream",
          "name": "stdout",
          "text": [
            "Collecting optuna\n",
            "  Downloading optuna-4.1.0-py3-none-any.whl.metadata (16 kB)\n",
            "Collecting alembic>=1.5.0 (from optuna)\n",
            "  Downloading alembic-1.14.0-py3-none-any.whl.metadata (7.4 kB)\n",
            "Collecting colorlog (from optuna)\n",
            "  Downloading colorlog-6.9.0-py3-none-any.whl.metadata (10 kB)\n",
            "Requirement already satisfied: numpy in /usr/local/lib/python3.10/dist-packages (from optuna) (1.26.4)\n",
            "Requirement already satisfied: packaging>=20.0 in /usr/local/lib/python3.10/dist-packages (from optuna) (24.2)\n",
            "Requirement already satisfied: sqlalchemy>=1.4.2 in /usr/local/lib/python3.10/dist-packages (from optuna) (2.0.36)\n",
            "Requirement already satisfied: tqdm in /usr/local/lib/python3.10/dist-packages (from optuna) (4.66.6)\n",
            "Requirement already satisfied: PyYAML in /usr/local/lib/python3.10/dist-packages (from optuna) (6.0.2)\n",
            "Collecting Mako (from alembic>=1.5.0->optuna)\n",
            "  Downloading Mako-1.3.6-py3-none-any.whl.metadata (2.9 kB)\n",
            "Requirement already satisfied: typing-extensions>=4 in /usr/local/lib/python3.10/dist-packages (from alembic>=1.5.0->optuna) (4.12.2)\n",
            "Requirement already satisfied: greenlet!=0.4.17 in /usr/local/lib/python3.10/dist-packages (from sqlalchemy>=1.4.2->optuna) (3.1.1)\n",
            "Requirement already satisfied: MarkupSafe>=0.9.2 in /usr/local/lib/python3.10/dist-packages (from Mako->alembic>=1.5.0->optuna) (3.0.2)\n",
            "Downloading optuna-4.1.0-py3-none-any.whl (364 kB)\n",
            "\u001b[2K   \u001b[90m━━━━━━━━━━━━━━━━━━━━━━━━━━━━━━━━━━━━━━━━\u001b[0m \u001b[32m364.4/364.4 kB\u001b[0m \u001b[31m11.4 MB/s\u001b[0m eta \u001b[36m0:00:00\u001b[0m\n",
            "\u001b[?25hDownloading alembic-1.14.0-py3-none-any.whl (233 kB)\n",
            "\u001b[2K   \u001b[90m━━━━━━━━━━━━━━━━━━━━━━━━━━━━━━━━━━━━━━━━\u001b[0m \u001b[32m233.5/233.5 kB\u001b[0m \u001b[31m18.1 MB/s\u001b[0m eta \u001b[36m0:00:00\u001b[0m\n",
            "\u001b[?25hDownloading colorlog-6.9.0-py3-none-any.whl (11 kB)\n",
            "Downloading Mako-1.3.6-py3-none-any.whl (78 kB)\n",
            "\u001b[2K   \u001b[90m━━━━━━━━━━━━━━━━━━━━━━━━━━━━━━━━━━━━━━━━\u001b[0m \u001b[32m78.6/78.6 kB\u001b[0m \u001b[31m6.9 MB/s\u001b[0m eta \u001b[36m0:00:00\u001b[0m\n",
            "\u001b[?25hInstalling collected packages: Mako, colorlog, alembic, optuna\n",
            "Successfully installed Mako-1.3.6 alembic-1.14.0 colorlog-6.9.0 optuna-4.1.0\n"
          ]
        }
      ]
    },
    {
      "cell_type": "code",
      "source": [
        "import optuna\n",
        "import xgboost as xgb\n",
        "from sklearn.model_selection import cross_val_score\n",
        "def objective(trial):\n",
        "        params =  {\n",
        "        'n_estimators': trial.suggest_int('n_estimators', 100, 1000,\n",
        "                                          step=100),\n",
        "        'max_depth': trial.suggest_int('max_depth', 3, 10),\n",
        "        'learning_rate': trial.suggest_float('learning_rate', 0.001, 0.1),\n",
        "        'subsample': trial.suggest_float('subsample', 0.5, 1.0),\n",
        "        'colsample_bytree': trial.suggest_float('colsample_bytree', 0.5, 1.0),\n",
        "        'min_samples_split': trial.suggest_int('min_samples_split', 2, 10),\n",
        "        'min_samples_leaf': trial.suggest_int('min_samples_leaf',1,10)\n",
        "          }\n",
        "        xgb_model = xgb.XGBClassifier(**params,use_label_encoder=False, eval_metric='logloss')\n",
        "        return cross_val_score(xgb_model,X_train,Y_train,cv=5).mean()\n",
        "learning=optuna.create_study(direction='maximize')\n",
        "learning.optimize(objective,n_trials=10)"
      ],
      "metadata": {
        "colab": {
          "base_uri": "https://localhost:8080/"
        },
        "id": "U8TJcUEaUEcz",
        "outputId": "c24326b7-8117-4cd3-9f9f-d5ca94dcad89"
      },
      "execution_count": null,
      "outputs": [
        {
          "output_type": "stream",
          "name": "stderr",
          "text": [
            "[I 2024-11-15 08:48:29,071] A new study created in memory with name: no-name-45fa6e30-a936-4ff7-b178-12adfd87370d\n",
            "/usr/local/lib/python3.10/dist-packages/xgboost/core.py:158: UserWarning: [08:48:29] WARNING: /workspace/src/learner.cc:740: \n",
            "Parameters: { \"min_samples_leaf\", \"min_samples_split\", \"use_label_encoder\" } are not used.\n",
            "\n",
            "  warnings.warn(smsg, UserWarning)\n",
            "/usr/local/lib/python3.10/dist-packages/xgboost/core.py:158: UserWarning: [08:48:30] WARNING: /workspace/src/learner.cc:740: \n",
            "Parameters: { \"min_samples_leaf\", \"min_samples_split\", \"use_label_encoder\" } are not used.\n",
            "\n",
            "  warnings.warn(smsg, UserWarning)\n",
            "/usr/local/lib/python3.10/dist-packages/xgboost/core.py:158: UserWarning: [08:48:33] WARNING: /workspace/src/learner.cc:740: \n",
            "Parameters: { \"min_samples_leaf\", \"min_samples_split\", \"use_label_encoder\" } are not used.\n",
            "\n",
            "  warnings.warn(smsg, UserWarning)\n",
            "/usr/local/lib/python3.10/dist-packages/xgboost/core.py:158: UserWarning: [08:48:41] WARNING: /workspace/src/learner.cc:740: \n",
            "Parameters: { \"min_samples_leaf\", \"min_samples_split\", \"use_label_encoder\" } are not used.\n",
            "\n",
            "  warnings.warn(smsg, UserWarning)\n",
            "/usr/local/lib/python3.10/dist-packages/xgboost/core.py:158: UserWarning: [08:48:52] WARNING: /workspace/src/learner.cc:740: \n",
            "Parameters: { \"min_samples_leaf\", \"min_samples_split\", \"use_label_encoder\" } are not used.\n",
            "\n",
            "  warnings.warn(smsg, UserWarning)\n",
            "[I 2024-11-15 08:49:02,430] Trial 0 finished with value: 0.7886499999999999 and parameters: {'n_estimators': 400, 'max_depth': 6, 'learning_rate': 0.03848047596032133, 'subsample': 0.5904833040084074, 'colsample_bytree': 0.7108944060769855, 'min_samples_split': 9, 'min_samples_leaf': 6}. Best is trial 0 with value: 0.7886499999999999.\n",
            "/usr/local/lib/python3.10/dist-packages/xgboost/core.py:158: UserWarning: [08:49:02] WARNING: /workspace/src/learner.cc:740: \n",
            "Parameters: { \"min_samples_leaf\", \"min_samples_split\", \"use_label_encoder\" } are not used.\n",
            "\n",
            "  warnings.warn(smsg, UserWarning)\n",
            "/usr/local/lib/python3.10/dist-packages/xgboost/core.py:158: UserWarning: [08:49:06] WARNING: /workspace/src/learner.cc:740: \n",
            "Parameters: { \"min_samples_leaf\", \"min_samples_split\", \"use_label_encoder\" } are not used.\n",
            "\n",
            "  warnings.warn(smsg, UserWarning)\n",
            "/usr/local/lib/python3.10/dist-packages/xgboost/core.py:158: UserWarning: [08:49:07] WARNING: /workspace/src/learner.cc:740: \n",
            "Parameters: { \"min_samples_leaf\", \"min_samples_split\", \"use_label_encoder\" } are not used.\n",
            "\n",
            "  warnings.warn(smsg, UserWarning)\n",
            "/usr/local/lib/python3.10/dist-packages/xgboost/core.py:158: UserWarning: [08:49:08] WARNING: /workspace/src/learner.cc:740: \n",
            "Parameters: { \"min_samples_leaf\", \"min_samples_split\", \"use_label_encoder\" } are not used.\n",
            "\n",
            "  warnings.warn(smsg, UserWarning)\n",
            "/usr/local/lib/python3.10/dist-packages/xgboost/core.py:158: UserWarning: [08:49:09] WARNING: /workspace/src/learner.cc:740: \n",
            "Parameters: { \"min_samples_leaf\", \"min_samples_split\", \"use_label_encoder\" } are not used.\n",
            "\n",
            "  warnings.warn(smsg, UserWarning)\n",
            "[I 2024-11-15 08:49:10,741] Trial 1 finished with value: 0.7827999999999999 and parameters: {'n_estimators': 300, 'max_depth': 8, 'learning_rate': 0.07023491566373427, 'subsample': 0.706383792047848, 'colsample_bytree': 0.9559356853496588, 'min_samples_split': 4, 'min_samples_leaf': 4}. Best is trial 0 with value: 0.7886499999999999.\n",
            "/usr/local/lib/python3.10/dist-packages/xgboost/core.py:158: UserWarning: [08:49:10] WARNING: /workspace/src/learner.cc:740: \n",
            "Parameters: { \"min_samples_leaf\", \"min_samples_split\", \"use_label_encoder\" } are not used.\n",
            "\n",
            "  warnings.warn(smsg, UserWarning)\n",
            "/usr/local/lib/python3.10/dist-packages/xgboost/core.py:158: UserWarning: [08:49:12] WARNING: /workspace/src/learner.cc:740: \n",
            "Parameters: { \"min_samples_leaf\", \"min_samples_split\", \"use_label_encoder\" } are not used.\n",
            "\n",
            "  warnings.warn(smsg, UserWarning)\n",
            "/usr/local/lib/python3.10/dist-packages/xgboost/core.py:158: UserWarning: [08:49:14] WARNING: /workspace/src/learner.cc:740: \n",
            "Parameters: { \"min_samples_leaf\", \"min_samples_split\", \"use_label_encoder\" } are not used.\n",
            "\n",
            "  warnings.warn(smsg, UserWarning)\n",
            "/usr/local/lib/python3.10/dist-packages/xgboost/core.py:158: UserWarning: [08:49:15] WARNING: /workspace/src/learner.cc:740: \n",
            "Parameters: { \"min_samples_leaf\", \"min_samples_split\", \"use_label_encoder\" } are not used.\n",
            "\n",
            "  warnings.warn(smsg, UserWarning)\n",
            "/usr/local/lib/python3.10/dist-packages/xgboost/core.py:158: UserWarning: [08:49:19] WARNING: /workspace/src/learner.cc:740: \n",
            "Parameters: { \"min_samples_leaf\", \"min_samples_split\", \"use_label_encoder\" } are not used.\n",
            "\n",
            "  warnings.warn(smsg, UserWarning)\n",
            "[I 2024-11-15 08:49:21,349] Trial 2 finished with value: 0.78415 and parameters: {'n_estimators': 400, 'max_depth': 10, 'learning_rate': 0.02694181361415667, 'subsample': 0.7017348665353298, 'colsample_bytree': 0.6984743683793013, 'min_samples_split': 4, 'min_samples_leaf': 4}. Best is trial 0 with value: 0.7886499999999999.\n",
            "/usr/local/lib/python3.10/dist-packages/xgboost/core.py:158: UserWarning: [08:49:21] WARNING: /workspace/src/learner.cc:740: \n",
            "Parameters: { \"min_samples_leaf\", \"min_samples_split\", \"use_label_encoder\" } are not used.\n",
            "\n",
            "  warnings.warn(smsg, UserWarning)\n",
            "/usr/local/lib/python3.10/dist-packages/xgboost/core.py:158: UserWarning: [08:49:23] WARNING: /workspace/src/learner.cc:740: \n",
            "Parameters: { \"min_samples_leaf\", \"min_samples_split\", \"use_label_encoder\" } are not used.\n",
            "\n",
            "  warnings.warn(smsg, UserWarning)\n",
            "/usr/local/lib/python3.10/dist-packages/xgboost/core.py:158: UserWarning: [08:49:25] WARNING: /workspace/src/learner.cc:740: \n",
            "Parameters: { \"min_samples_leaf\", \"min_samples_split\", \"use_label_encoder\" } are not used.\n",
            "\n",
            "  warnings.warn(smsg, UserWarning)\n",
            "/usr/local/lib/python3.10/dist-packages/xgboost/core.py:158: UserWarning: [08:49:27] WARNING: /workspace/src/learner.cc:740: \n",
            "Parameters: { \"min_samples_leaf\", \"min_samples_split\", \"use_label_encoder\" } are not used.\n",
            "\n",
            "  warnings.warn(smsg, UserWarning)\n",
            "/usr/local/lib/python3.10/dist-packages/xgboost/core.py:158: UserWarning: [08:49:32] WARNING: /workspace/src/learner.cc:740: \n",
            "Parameters: { \"min_samples_leaf\", \"min_samples_split\", \"use_label_encoder\" } are not used.\n",
            "\n",
            "  warnings.warn(smsg, UserWarning)\n",
            "[I 2024-11-15 08:49:34,225] Trial 3 finished with value: 0.78595 and parameters: {'n_estimators': 600, 'max_depth': 10, 'learning_rate': 0.027353919927979423, 'subsample': 0.5238156833081572, 'colsample_bytree': 0.5216686147561047, 'min_samples_split': 9, 'min_samples_leaf': 7}. Best is trial 0 with value: 0.7886499999999999.\n",
            "/usr/local/lib/python3.10/dist-packages/xgboost/core.py:158: UserWarning: [08:49:34] WARNING: /workspace/src/learner.cc:740: \n",
            "Parameters: { \"min_samples_leaf\", \"min_samples_split\", \"use_label_encoder\" } are not used.\n",
            "\n",
            "  warnings.warn(smsg, UserWarning)\n",
            "/usr/local/lib/python3.10/dist-packages/xgboost/core.py:158: UserWarning: [08:49:34] WARNING: /workspace/src/learner.cc:740: \n",
            "Parameters: { \"min_samples_leaf\", \"min_samples_split\", \"use_label_encoder\" } are not used.\n",
            "\n",
            "  warnings.warn(smsg, UserWarning)\n",
            "/usr/local/lib/python3.10/dist-packages/xgboost/core.py:158: UserWarning: [08:49:35] WARNING: /workspace/src/learner.cc:740: \n",
            "Parameters: { \"min_samples_leaf\", \"min_samples_split\", \"use_label_encoder\" } are not used.\n",
            "\n",
            "  warnings.warn(smsg, UserWarning)\n",
            "/usr/local/lib/python3.10/dist-packages/xgboost/core.py:158: UserWarning: [08:49:36] WARNING: /workspace/src/learner.cc:740: \n",
            "Parameters: { \"min_samples_leaf\", \"min_samples_split\", \"use_label_encoder\" } are not used.\n",
            "\n",
            "  warnings.warn(smsg, UserWarning)\n",
            "/usr/local/lib/python3.10/dist-packages/xgboost/core.py:158: UserWarning: [08:49:37] WARNING: /workspace/src/learner.cc:740: \n",
            "Parameters: { \"min_samples_leaf\", \"min_samples_split\", \"use_label_encoder\" } are not used.\n",
            "\n",
            "  warnings.warn(smsg, UserWarning)\n",
            "[I 2024-11-15 08:49:37,722] Trial 4 finished with value: 0.7870000000000001 and parameters: {'n_estimators': 200, 'max_depth': 8, 'learning_rate': 0.07778338393782028, 'subsample': 0.6130002359033526, 'colsample_bytree': 0.69256331262823, 'min_samples_split': 9, 'min_samples_leaf': 6}. Best is trial 0 with value: 0.7886499999999999.\n",
            "/usr/local/lib/python3.10/dist-packages/xgboost/core.py:158: UserWarning: [08:49:37] WARNING: /workspace/src/learner.cc:740: \n",
            "Parameters: { \"min_samples_leaf\", \"min_samples_split\", \"use_label_encoder\" } are not used.\n",
            "\n",
            "  warnings.warn(smsg, UserWarning)\n",
            "/usr/local/lib/python3.10/dist-packages/xgboost/core.py:158: UserWarning: [08:49:39] WARNING: /workspace/src/learner.cc:740: \n",
            "Parameters: { \"min_samples_leaf\", \"min_samples_split\", \"use_label_encoder\" } are not used.\n",
            "\n",
            "  warnings.warn(smsg, UserWarning)\n",
            "/usr/local/lib/python3.10/dist-packages/xgboost/core.py:158: UserWarning: [08:49:40] WARNING: /workspace/src/learner.cc:740: \n",
            "Parameters: { \"min_samples_leaf\", \"min_samples_split\", \"use_label_encoder\" } are not used.\n",
            "\n",
            "  warnings.warn(smsg, UserWarning)\n",
            "/usr/local/lib/python3.10/dist-packages/xgboost/core.py:158: UserWarning: [08:49:44] WARNING: /workspace/src/learner.cc:740: \n",
            "Parameters: { \"min_samples_leaf\", \"min_samples_split\", \"use_label_encoder\" } are not used.\n",
            "\n",
            "  warnings.warn(smsg, UserWarning)\n",
            "/usr/local/lib/python3.10/dist-packages/xgboost/core.py:158: UserWarning: [08:49:46] WARNING: /workspace/src/learner.cc:740: \n",
            "Parameters: { \"min_samples_leaf\", \"min_samples_split\", \"use_label_encoder\" } are not used.\n",
            "\n",
            "  warnings.warn(smsg, UserWarning)\n",
            "[I 2024-11-15 08:49:48,219] Trial 5 finished with value: 0.7852 and parameters: {'n_estimators': 500, 'max_depth': 10, 'learning_rate': 0.044844739644401485, 'subsample': 0.9773483440081687, 'colsample_bytree': 0.5164709735977138, 'min_samples_split': 8, 'min_samples_leaf': 5}. Best is trial 0 with value: 0.7886499999999999.\n",
            "/usr/local/lib/python3.10/dist-packages/xgboost/core.py:158: UserWarning: [08:49:48] WARNING: /workspace/src/learner.cc:740: \n",
            "Parameters: { \"min_samples_leaf\", \"min_samples_split\", \"use_label_encoder\" } are not used.\n",
            "\n",
            "  warnings.warn(smsg, UserWarning)\n",
            "/usr/local/lib/python3.10/dist-packages/xgboost/core.py:158: UserWarning: [08:49:50] WARNING: /workspace/src/learner.cc:740: \n",
            "Parameters: { \"min_samples_leaf\", \"min_samples_split\", \"use_label_encoder\" } are not used.\n",
            "\n",
            "  warnings.warn(smsg, UserWarning)\n",
            "/usr/local/lib/python3.10/dist-packages/xgboost/core.py:158: UserWarning: [08:49:52] WARNING: /workspace/src/learner.cc:740: \n",
            "Parameters: { \"min_samples_leaf\", \"min_samples_split\", \"use_label_encoder\" } are not used.\n",
            "\n",
            "  warnings.warn(smsg, UserWarning)\n",
            "/usr/local/lib/python3.10/dist-packages/xgboost/core.py:158: UserWarning: [08:49:53] WARNING: /workspace/src/learner.cc:740: \n",
            "Parameters: { \"min_samples_leaf\", \"min_samples_split\", \"use_label_encoder\" } are not used.\n",
            "\n",
            "  warnings.warn(smsg, UserWarning)\n",
            "/usr/local/lib/python3.10/dist-packages/xgboost/core.py:158: UserWarning: [08:49:57] WARNING: /workspace/src/learner.cc:740: \n",
            "Parameters: { \"min_samples_leaf\", \"min_samples_split\", \"use_label_encoder\" } are not used.\n",
            "\n",
            "  warnings.warn(smsg, UserWarning)\n",
            "[I 2024-11-15 08:49:59,943] Trial 6 finished with value: 0.785725 and parameters: {'n_estimators': 700, 'max_depth': 6, 'learning_rate': 0.05190252154978528, 'subsample': 0.6896034589288875, 'colsample_bytree': 0.6798518793908046, 'min_samples_split': 4, 'min_samples_leaf': 3}. Best is trial 0 with value: 0.7886499999999999.\n",
            "/usr/local/lib/python3.10/dist-packages/xgboost/core.py:158: UserWarning: [08:49:59] WARNING: /workspace/src/learner.cc:740: \n",
            "Parameters: { \"min_samples_leaf\", \"min_samples_split\", \"use_label_encoder\" } are not used.\n",
            "\n",
            "  warnings.warn(smsg, UserWarning)\n",
            "/usr/local/lib/python3.10/dist-packages/xgboost/core.py:158: UserWarning: [08:50:01] WARNING: /workspace/src/learner.cc:740: \n",
            "Parameters: { \"min_samples_leaf\", \"min_samples_split\", \"use_label_encoder\" } are not used.\n",
            "\n",
            "  warnings.warn(smsg, UserWarning)\n",
            "/usr/local/lib/python3.10/dist-packages/xgboost/core.py:158: UserWarning: [08:50:03] WARNING: /workspace/src/learner.cc:740: \n",
            "Parameters: { \"min_samples_leaf\", \"min_samples_split\", \"use_label_encoder\" } are not used.\n",
            "\n",
            "  warnings.warn(smsg, UserWarning)\n",
            "/usr/local/lib/python3.10/dist-packages/xgboost/core.py:158: UserWarning: [08:50:05] WARNING: /workspace/src/learner.cc:740: \n",
            "Parameters: { \"min_samples_leaf\", \"min_samples_split\", \"use_label_encoder\" } are not used.\n",
            "\n",
            "  warnings.warn(smsg, UserWarning)\n",
            "/usr/local/lib/python3.10/dist-packages/xgboost/core.py:158: UserWarning: [08:50:07] WARNING: /workspace/src/learner.cc:740: \n",
            "Parameters: { \"min_samples_leaf\", \"min_samples_split\", \"use_label_encoder\" } are not used.\n",
            "\n",
            "  warnings.warn(smsg, UserWarning)\n",
            "[I 2024-11-15 08:50:11,493] Trial 7 finished with value: 0.7842 and parameters: {'n_estimators': 600, 'max_depth': 7, 'learning_rate': 0.0608412219828874, 'subsample': 0.7845013498405369, 'colsample_bytree': 0.7393663734214684, 'min_samples_split': 9, 'min_samples_leaf': 3}. Best is trial 0 with value: 0.7886499999999999.\n",
            "/usr/local/lib/python3.10/dist-packages/xgboost/core.py:158: UserWarning: [08:50:11] WARNING: /workspace/src/learner.cc:740: \n",
            "Parameters: { \"min_samples_leaf\", \"min_samples_split\", \"use_label_encoder\" } are not used.\n",
            "\n",
            "  warnings.warn(smsg, UserWarning)\n",
            "/usr/local/lib/python3.10/dist-packages/xgboost/core.py:158: UserWarning: [08:50:13] WARNING: /workspace/src/learner.cc:740: \n",
            "Parameters: { \"min_samples_leaf\", \"min_samples_split\", \"use_label_encoder\" } are not used.\n",
            "\n",
            "  warnings.warn(smsg, UserWarning)\n",
            "/usr/local/lib/python3.10/dist-packages/xgboost/core.py:158: UserWarning: [08:50:15] WARNING: /workspace/src/learner.cc:740: \n",
            "Parameters: { \"min_samples_leaf\", \"min_samples_split\", \"use_label_encoder\" } are not used.\n",
            "\n",
            "  warnings.warn(smsg, UserWarning)\n",
            "/usr/local/lib/python3.10/dist-packages/xgboost/core.py:158: UserWarning: [08:50:19] WARNING: /workspace/src/learner.cc:740: \n",
            "Parameters: { \"min_samples_leaf\", \"min_samples_split\", \"use_label_encoder\" } are not used.\n",
            "\n",
            "  warnings.warn(smsg, UserWarning)\n",
            "/usr/local/lib/python3.10/dist-packages/xgboost/core.py:158: UserWarning: [08:50:24] WARNING: /workspace/src/learner.cc:740: \n",
            "Parameters: { \"min_samples_leaf\", \"min_samples_split\", \"use_label_encoder\" } are not used.\n",
            "\n",
            "  warnings.warn(smsg, UserWarning)\n",
            "[I 2024-11-15 08:50:26,541] Trial 8 finished with value: 0.7705250000000001 and parameters: {'n_estimators': 500, 'max_depth': 9, 'learning_rate': 0.001009525565337805, 'subsample': 0.8880161944258043, 'colsample_bytree': 0.8586246199346602, 'min_samples_split': 9, 'min_samples_leaf': 9}. Best is trial 0 with value: 0.7886499999999999.\n",
            "/usr/local/lib/python3.10/dist-packages/xgboost/core.py:158: UserWarning: [08:50:26] WARNING: /workspace/src/learner.cc:740: \n",
            "Parameters: { \"min_samples_leaf\", \"min_samples_split\", \"use_label_encoder\" } are not used.\n",
            "\n",
            "  warnings.warn(smsg, UserWarning)\n",
            "/usr/local/lib/python3.10/dist-packages/xgboost/core.py:158: UserWarning: [08:50:27] WARNING: /workspace/src/learner.cc:740: \n",
            "Parameters: { \"min_samples_leaf\", \"min_samples_split\", \"use_label_encoder\" } are not used.\n",
            "\n",
            "  warnings.warn(smsg, UserWarning)\n",
            "/usr/local/lib/python3.10/dist-packages/xgboost/core.py:158: UserWarning: [08:50:28] WARNING: /workspace/src/learner.cc:740: \n",
            "Parameters: { \"min_samples_leaf\", \"min_samples_split\", \"use_label_encoder\" } are not used.\n",
            "\n",
            "  warnings.warn(smsg, UserWarning)\n",
            "/usr/local/lib/python3.10/dist-packages/xgboost/core.py:158: UserWarning: [08:50:29] WARNING: /workspace/src/learner.cc:740: \n",
            "Parameters: { \"min_samples_leaf\", \"min_samples_split\", \"use_label_encoder\" } are not used.\n",
            "\n",
            "  warnings.warn(smsg, UserWarning)\n",
            "/usr/local/lib/python3.10/dist-packages/xgboost/core.py:158: UserWarning: [08:50:30] WARNING: /workspace/src/learner.cc:740: \n",
            "Parameters: { \"min_samples_leaf\", \"min_samples_split\", \"use_label_encoder\" } are not used.\n",
            "\n",
            "  warnings.warn(smsg, UserWarning)\n",
            "[I 2024-11-15 08:50:32,002] Trial 9 finished with value: 0.7875000000000001 and parameters: {'n_estimators': 400, 'max_depth': 7, 'learning_rate': 0.06844128285180766, 'subsample': 0.8915311888663933, 'colsample_bytree': 0.6430823965516927, 'min_samples_split': 4, 'min_samples_leaf': 3}. Best is trial 0 with value: 0.7886499999999999.\n"
          ]
        }
      ]
    },
    {
      "cell_type": "code",
      "source": [
        "best_params=learning.best_params\n",
        "print(best_params)"
      ],
      "metadata": {
        "colab": {
          "base_uri": "https://localhost:8080/"
        },
        "id": "UQWH72e5Yk8O",
        "outputId": "bea7f400-596b-482f-ad7e-445299a57a02"
      },
      "execution_count": null,
      "outputs": [
        {
          "output_type": "stream",
          "name": "stdout",
          "text": [
            "{'n_estimators': 400, 'max_depth': 6, 'learning_rate': 0.03848047596032133, 'subsample': 0.5904833040084074, 'colsample_bytree': 0.7108944060769855, 'min_samples_split': 9, 'min_samples_leaf': 6}\n"
          ]
        }
      ]
    },
    {
      "cell_type": "code",
      "source": [
        "final_xgb_model=xgb.XGBClassifier(**best_params,use_label_encoder=False,eval_metric='logloss')\n",
        "final_xgb_model.fit(X_train,Y_train)"
      ],
      "metadata": {
        "colab": {
          "base_uri": "https://localhost:8080/",
          "height": 351
        },
        "id": "HCTjAPaDYfJq",
        "outputId": "a38be98f-269d-4215-c755-37469e4f8f41"
      },
      "execution_count": null,
      "outputs": [
        {
          "output_type": "stream",
          "name": "stderr",
          "text": [
            "/usr/local/lib/python3.10/dist-packages/xgboost/core.py:158: UserWarning: [08:50:32] WARNING: /workspace/src/learner.cc:740: \n",
            "Parameters: { \"min_samples_leaf\", \"min_samples_split\", \"use_label_encoder\" } are not used.\n",
            "\n",
            "  warnings.warn(smsg, UserWarning)\n"
          ]
        },
        {
          "output_type": "execute_result",
          "data": {
            "text/plain": [
              "XGBClassifier(base_score=None, booster=None, callbacks=None,\n",
              "              colsample_bylevel=None, colsample_bynode=None,\n",
              "              colsample_bytree=0.7108944060769855, device=None,\n",
              "              early_stopping_rounds=None, enable_categorical=False,\n",
              "              eval_metric='logloss', feature_types=None, gamma=None,\n",
              "              grow_policy=None, importance_type=None,\n",
              "              interaction_constraints=None, learning_rate=0.03848047596032133,\n",
              "              max_bin=None, max_cat_threshold=None, max_cat_to_onehot=None,\n",
              "              max_delta_step=None, max_depth=6, max_leaves=None,\n",
              "              min_child_weight=None, min_samples_leaf=6, min_samples_split=9,\n",
              "              missing=nan, monotone_constraints=None, multi_strategy=None,\n",
              "              n_estimators=400, n_jobs=None, ...)"
            ],
            "text/html": [
              "<style>#sk-container-id-1 {\n",
              "  /* Definition of color scheme common for light and dark mode */\n",
              "  --sklearn-color-text: black;\n",
              "  --sklearn-color-line: gray;\n",
              "  /* Definition of color scheme for unfitted estimators */\n",
              "  --sklearn-color-unfitted-level-0: #fff5e6;\n",
              "  --sklearn-color-unfitted-level-1: #f6e4d2;\n",
              "  --sklearn-color-unfitted-level-2: #ffe0b3;\n",
              "  --sklearn-color-unfitted-level-3: chocolate;\n",
              "  /* Definition of color scheme for fitted estimators */\n",
              "  --sklearn-color-fitted-level-0: #f0f8ff;\n",
              "  --sklearn-color-fitted-level-1: #d4ebff;\n",
              "  --sklearn-color-fitted-level-2: #b3dbfd;\n",
              "  --sklearn-color-fitted-level-3: cornflowerblue;\n",
              "\n",
              "  /* Specific color for light theme */\n",
              "  --sklearn-color-text-on-default-background: var(--sg-text-color, var(--theme-code-foreground, var(--jp-content-font-color1, black)));\n",
              "  --sklearn-color-background: var(--sg-background-color, var(--theme-background, var(--jp-layout-color0, white)));\n",
              "  --sklearn-color-border-box: var(--sg-text-color, var(--theme-code-foreground, var(--jp-content-font-color1, black)));\n",
              "  --sklearn-color-icon: #696969;\n",
              "\n",
              "  @media (prefers-color-scheme: dark) {\n",
              "    /* Redefinition of color scheme for dark theme */\n",
              "    --sklearn-color-text-on-default-background: var(--sg-text-color, var(--theme-code-foreground, var(--jp-content-font-color1, white)));\n",
              "    --sklearn-color-background: var(--sg-background-color, var(--theme-background, var(--jp-layout-color0, #111)));\n",
              "    --sklearn-color-border-box: var(--sg-text-color, var(--theme-code-foreground, var(--jp-content-font-color1, white)));\n",
              "    --sklearn-color-icon: #878787;\n",
              "  }\n",
              "}\n",
              "\n",
              "#sk-container-id-1 {\n",
              "  color: var(--sklearn-color-text);\n",
              "}\n",
              "\n",
              "#sk-container-id-1 pre {\n",
              "  padding: 0;\n",
              "}\n",
              "\n",
              "#sk-container-id-1 input.sk-hidden--visually {\n",
              "  border: 0;\n",
              "  clip: rect(1px 1px 1px 1px);\n",
              "  clip: rect(1px, 1px, 1px, 1px);\n",
              "  height: 1px;\n",
              "  margin: -1px;\n",
              "  overflow: hidden;\n",
              "  padding: 0;\n",
              "  position: absolute;\n",
              "  width: 1px;\n",
              "}\n",
              "\n",
              "#sk-container-id-1 div.sk-dashed-wrapped {\n",
              "  border: 1px dashed var(--sklearn-color-line);\n",
              "  margin: 0 0.4em 0.5em 0.4em;\n",
              "  box-sizing: border-box;\n",
              "  padding-bottom: 0.4em;\n",
              "  background-color: var(--sklearn-color-background);\n",
              "}\n",
              "\n",
              "#sk-container-id-1 div.sk-container {\n",
              "  /* jupyter's `normalize.less` sets `[hidden] { display: none; }`\n",
              "     but bootstrap.min.css set `[hidden] { display: none !important; }`\n",
              "     so we also need the `!important` here to be able to override the\n",
              "     default hidden behavior on the sphinx rendered scikit-learn.org.\n",
              "     See: https://github.com/scikit-learn/scikit-learn/issues/21755 */\n",
              "  display: inline-block !important;\n",
              "  position: relative;\n",
              "}\n",
              "\n",
              "#sk-container-id-1 div.sk-text-repr-fallback {\n",
              "  display: none;\n",
              "}\n",
              "\n",
              "div.sk-parallel-item,\n",
              "div.sk-serial,\n",
              "div.sk-item {\n",
              "  /* draw centered vertical line to link estimators */\n",
              "  background-image: linear-gradient(var(--sklearn-color-text-on-default-background), var(--sklearn-color-text-on-default-background));\n",
              "  background-size: 2px 100%;\n",
              "  background-repeat: no-repeat;\n",
              "  background-position: center center;\n",
              "}\n",
              "\n",
              "/* Parallel-specific style estimator block */\n",
              "\n",
              "#sk-container-id-1 div.sk-parallel-item::after {\n",
              "  content: \"\";\n",
              "  width: 100%;\n",
              "  border-bottom: 2px solid var(--sklearn-color-text-on-default-background);\n",
              "  flex-grow: 1;\n",
              "}\n",
              "\n",
              "#sk-container-id-1 div.sk-parallel {\n",
              "  display: flex;\n",
              "  align-items: stretch;\n",
              "  justify-content: center;\n",
              "  background-color: var(--sklearn-color-background);\n",
              "  position: relative;\n",
              "}\n",
              "\n",
              "#sk-container-id-1 div.sk-parallel-item {\n",
              "  display: flex;\n",
              "  flex-direction: column;\n",
              "}\n",
              "\n",
              "#sk-container-id-1 div.sk-parallel-item:first-child::after {\n",
              "  align-self: flex-end;\n",
              "  width: 50%;\n",
              "}\n",
              "\n",
              "#sk-container-id-1 div.sk-parallel-item:last-child::after {\n",
              "  align-self: flex-start;\n",
              "  width: 50%;\n",
              "}\n",
              "\n",
              "#sk-container-id-1 div.sk-parallel-item:only-child::after {\n",
              "  width: 0;\n",
              "}\n",
              "\n",
              "/* Serial-specific style estimator block */\n",
              "\n",
              "#sk-container-id-1 div.sk-serial {\n",
              "  display: flex;\n",
              "  flex-direction: column;\n",
              "  align-items: center;\n",
              "  background-color: var(--sklearn-color-background);\n",
              "  padding-right: 1em;\n",
              "  padding-left: 1em;\n",
              "}\n",
              "\n",
              "\n",
              "/* Toggleable style: style used for estimator/Pipeline/ColumnTransformer box that is\n",
              "clickable and can be expanded/collapsed.\n",
              "- Pipeline and ColumnTransformer use this feature and define the default style\n",
              "- Estimators will overwrite some part of the style using the `sk-estimator` class\n",
              "*/\n",
              "\n",
              "/* Pipeline and ColumnTransformer style (default) */\n",
              "\n",
              "#sk-container-id-1 div.sk-toggleable {\n",
              "  /* Default theme specific background. It is overwritten whether we have a\n",
              "  specific estimator or a Pipeline/ColumnTransformer */\n",
              "  background-color: var(--sklearn-color-background);\n",
              "}\n",
              "\n",
              "/* Toggleable label */\n",
              "#sk-container-id-1 label.sk-toggleable__label {\n",
              "  cursor: pointer;\n",
              "  display: block;\n",
              "  width: 100%;\n",
              "  margin-bottom: 0;\n",
              "  padding: 0.5em;\n",
              "  box-sizing: border-box;\n",
              "  text-align: center;\n",
              "}\n",
              "\n",
              "#sk-container-id-1 label.sk-toggleable__label-arrow:before {\n",
              "  /* Arrow on the left of the label */\n",
              "  content: \"▸\";\n",
              "  float: left;\n",
              "  margin-right: 0.25em;\n",
              "  color: var(--sklearn-color-icon);\n",
              "}\n",
              "\n",
              "#sk-container-id-1 label.sk-toggleable__label-arrow:hover:before {\n",
              "  color: var(--sklearn-color-text);\n",
              "}\n",
              "\n",
              "/* Toggleable content - dropdown */\n",
              "\n",
              "#sk-container-id-1 div.sk-toggleable__content {\n",
              "  max-height: 0;\n",
              "  max-width: 0;\n",
              "  overflow: hidden;\n",
              "  text-align: left;\n",
              "  /* unfitted */\n",
              "  background-color: var(--sklearn-color-unfitted-level-0);\n",
              "}\n",
              "\n",
              "#sk-container-id-1 div.sk-toggleable__content.fitted {\n",
              "  /* fitted */\n",
              "  background-color: var(--sklearn-color-fitted-level-0);\n",
              "}\n",
              "\n",
              "#sk-container-id-1 div.sk-toggleable__content pre {\n",
              "  margin: 0.2em;\n",
              "  border-radius: 0.25em;\n",
              "  color: var(--sklearn-color-text);\n",
              "  /* unfitted */\n",
              "  background-color: var(--sklearn-color-unfitted-level-0);\n",
              "}\n",
              "\n",
              "#sk-container-id-1 div.sk-toggleable__content.fitted pre {\n",
              "  /* unfitted */\n",
              "  background-color: var(--sklearn-color-fitted-level-0);\n",
              "}\n",
              "\n",
              "#sk-container-id-1 input.sk-toggleable__control:checked~div.sk-toggleable__content {\n",
              "  /* Expand drop-down */\n",
              "  max-height: 200px;\n",
              "  max-width: 100%;\n",
              "  overflow: auto;\n",
              "}\n",
              "\n",
              "#sk-container-id-1 input.sk-toggleable__control:checked~label.sk-toggleable__label-arrow:before {\n",
              "  content: \"▾\";\n",
              "}\n",
              "\n",
              "/* Pipeline/ColumnTransformer-specific style */\n",
              "\n",
              "#sk-container-id-1 div.sk-label input.sk-toggleable__control:checked~label.sk-toggleable__label {\n",
              "  color: var(--sklearn-color-text);\n",
              "  background-color: var(--sklearn-color-unfitted-level-2);\n",
              "}\n",
              "\n",
              "#sk-container-id-1 div.sk-label.fitted input.sk-toggleable__control:checked~label.sk-toggleable__label {\n",
              "  background-color: var(--sklearn-color-fitted-level-2);\n",
              "}\n",
              "\n",
              "/* Estimator-specific style */\n",
              "\n",
              "/* Colorize estimator box */\n",
              "#sk-container-id-1 div.sk-estimator input.sk-toggleable__control:checked~label.sk-toggleable__label {\n",
              "  /* unfitted */\n",
              "  background-color: var(--sklearn-color-unfitted-level-2);\n",
              "}\n",
              "\n",
              "#sk-container-id-1 div.sk-estimator.fitted input.sk-toggleable__control:checked~label.sk-toggleable__label {\n",
              "  /* fitted */\n",
              "  background-color: var(--sklearn-color-fitted-level-2);\n",
              "}\n",
              "\n",
              "#sk-container-id-1 div.sk-label label.sk-toggleable__label,\n",
              "#sk-container-id-1 div.sk-label label {\n",
              "  /* The background is the default theme color */\n",
              "  color: var(--sklearn-color-text-on-default-background);\n",
              "}\n",
              "\n",
              "/* On hover, darken the color of the background */\n",
              "#sk-container-id-1 div.sk-label:hover label.sk-toggleable__label {\n",
              "  color: var(--sklearn-color-text);\n",
              "  background-color: var(--sklearn-color-unfitted-level-2);\n",
              "}\n",
              "\n",
              "/* Label box, darken color on hover, fitted */\n",
              "#sk-container-id-1 div.sk-label.fitted:hover label.sk-toggleable__label.fitted {\n",
              "  color: var(--sklearn-color-text);\n",
              "  background-color: var(--sklearn-color-fitted-level-2);\n",
              "}\n",
              "\n",
              "/* Estimator label */\n",
              "\n",
              "#sk-container-id-1 div.sk-label label {\n",
              "  font-family: monospace;\n",
              "  font-weight: bold;\n",
              "  display: inline-block;\n",
              "  line-height: 1.2em;\n",
              "}\n",
              "\n",
              "#sk-container-id-1 div.sk-label-container {\n",
              "  text-align: center;\n",
              "}\n",
              "\n",
              "/* Estimator-specific */\n",
              "#sk-container-id-1 div.sk-estimator {\n",
              "  font-family: monospace;\n",
              "  border: 1px dotted var(--sklearn-color-border-box);\n",
              "  border-radius: 0.25em;\n",
              "  box-sizing: border-box;\n",
              "  margin-bottom: 0.5em;\n",
              "  /* unfitted */\n",
              "  background-color: var(--sklearn-color-unfitted-level-0);\n",
              "}\n",
              "\n",
              "#sk-container-id-1 div.sk-estimator.fitted {\n",
              "  /* fitted */\n",
              "  background-color: var(--sklearn-color-fitted-level-0);\n",
              "}\n",
              "\n",
              "/* on hover */\n",
              "#sk-container-id-1 div.sk-estimator:hover {\n",
              "  /* unfitted */\n",
              "  background-color: var(--sklearn-color-unfitted-level-2);\n",
              "}\n",
              "\n",
              "#sk-container-id-1 div.sk-estimator.fitted:hover {\n",
              "  /* fitted */\n",
              "  background-color: var(--sklearn-color-fitted-level-2);\n",
              "}\n",
              "\n",
              "/* Specification for estimator info (e.g. \"i\" and \"?\") */\n",
              "\n",
              "/* Common style for \"i\" and \"?\" */\n",
              "\n",
              ".sk-estimator-doc-link,\n",
              "a:link.sk-estimator-doc-link,\n",
              "a:visited.sk-estimator-doc-link {\n",
              "  float: right;\n",
              "  font-size: smaller;\n",
              "  line-height: 1em;\n",
              "  font-family: monospace;\n",
              "  background-color: var(--sklearn-color-background);\n",
              "  border-radius: 1em;\n",
              "  height: 1em;\n",
              "  width: 1em;\n",
              "  text-decoration: none !important;\n",
              "  margin-left: 1ex;\n",
              "  /* unfitted */\n",
              "  border: var(--sklearn-color-unfitted-level-1) 1pt solid;\n",
              "  color: var(--sklearn-color-unfitted-level-1);\n",
              "}\n",
              "\n",
              ".sk-estimator-doc-link.fitted,\n",
              "a:link.sk-estimator-doc-link.fitted,\n",
              "a:visited.sk-estimator-doc-link.fitted {\n",
              "  /* fitted */\n",
              "  border: var(--sklearn-color-fitted-level-1) 1pt solid;\n",
              "  color: var(--sklearn-color-fitted-level-1);\n",
              "}\n",
              "\n",
              "/* On hover */\n",
              "div.sk-estimator:hover .sk-estimator-doc-link:hover,\n",
              ".sk-estimator-doc-link:hover,\n",
              "div.sk-label-container:hover .sk-estimator-doc-link:hover,\n",
              ".sk-estimator-doc-link:hover {\n",
              "  /* unfitted */\n",
              "  background-color: var(--sklearn-color-unfitted-level-3);\n",
              "  color: var(--sklearn-color-background);\n",
              "  text-decoration: none;\n",
              "}\n",
              "\n",
              "div.sk-estimator.fitted:hover .sk-estimator-doc-link.fitted:hover,\n",
              ".sk-estimator-doc-link.fitted:hover,\n",
              "div.sk-label-container:hover .sk-estimator-doc-link.fitted:hover,\n",
              ".sk-estimator-doc-link.fitted:hover {\n",
              "  /* fitted */\n",
              "  background-color: var(--sklearn-color-fitted-level-3);\n",
              "  color: var(--sklearn-color-background);\n",
              "  text-decoration: none;\n",
              "}\n",
              "\n",
              "/* Span, style for the box shown on hovering the info icon */\n",
              ".sk-estimator-doc-link span {\n",
              "  display: none;\n",
              "  z-index: 9999;\n",
              "  position: relative;\n",
              "  font-weight: normal;\n",
              "  right: .2ex;\n",
              "  padding: .5ex;\n",
              "  margin: .5ex;\n",
              "  width: min-content;\n",
              "  min-width: 20ex;\n",
              "  max-width: 50ex;\n",
              "  color: var(--sklearn-color-text);\n",
              "  box-shadow: 2pt 2pt 4pt #999;\n",
              "  /* unfitted */\n",
              "  background: var(--sklearn-color-unfitted-level-0);\n",
              "  border: .5pt solid var(--sklearn-color-unfitted-level-3);\n",
              "}\n",
              "\n",
              ".sk-estimator-doc-link.fitted span {\n",
              "  /* fitted */\n",
              "  background: var(--sklearn-color-fitted-level-0);\n",
              "  border: var(--sklearn-color-fitted-level-3);\n",
              "}\n",
              "\n",
              ".sk-estimator-doc-link:hover span {\n",
              "  display: block;\n",
              "}\n",
              "\n",
              "/* \"?\"-specific style due to the `<a>` HTML tag */\n",
              "\n",
              "#sk-container-id-1 a.estimator_doc_link {\n",
              "  float: right;\n",
              "  font-size: 1rem;\n",
              "  line-height: 1em;\n",
              "  font-family: monospace;\n",
              "  background-color: var(--sklearn-color-background);\n",
              "  border-radius: 1rem;\n",
              "  height: 1rem;\n",
              "  width: 1rem;\n",
              "  text-decoration: none;\n",
              "  /* unfitted */\n",
              "  color: var(--sklearn-color-unfitted-level-1);\n",
              "  border: var(--sklearn-color-unfitted-level-1) 1pt solid;\n",
              "}\n",
              "\n",
              "#sk-container-id-1 a.estimator_doc_link.fitted {\n",
              "  /* fitted */\n",
              "  border: var(--sklearn-color-fitted-level-1) 1pt solid;\n",
              "  color: var(--sklearn-color-fitted-level-1);\n",
              "}\n",
              "\n",
              "/* On hover */\n",
              "#sk-container-id-1 a.estimator_doc_link:hover {\n",
              "  /* unfitted */\n",
              "  background-color: var(--sklearn-color-unfitted-level-3);\n",
              "  color: var(--sklearn-color-background);\n",
              "  text-decoration: none;\n",
              "}\n",
              "\n",
              "#sk-container-id-1 a.estimator_doc_link.fitted:hover {\n",
              "  /* fitted */\n",
              "  background-color: var(--sklearn-color-fitted-level-3);\n",
              "}\n",
              "</style><div id=\"sk-container-id-1\" class=\"sk-top-container\"><div class=\"sk-text-repr-fallback\"><pre>XGBClassifier(base_score=None, booster=None, callbacks=None,\n",
              "              colsample_bylevel=None, colsample_bynode=None,\n",
              "              colsample_bytree=0.7108944060769855, device=None,\n",
              "              early_stopping_rounds=None, enable_categorical=False,\n",
              "              eval_metric=&#x27;logloss&#x27;, feature_types=None, gamma=None,\n",
              "              grow_policy=None, importance_type=None,\n",
              "              interaction_constraints=None, learning_rate=0.03848047596032133,\n",
              "              max_bin=None, max_cat_threshold=None, max_cat_to_onehot=None,\n",
              "              max_delta_step=None, max_depth=6, max_leaves=None,\n",
              "              min_child_weight=None, min_samples_leaf=6, min_samples_split=9,\n",
              "              missing=nan, monotone_constraints=None, multi_strategy=None,\n",
              "              n_estimators=400, n_jobs=None, ...)</pre><b>In a Jupyter environment, please rerun this cell to show the HTML representation or trust the notebook. <br />On GitHub, the HTML representation is unable to render, please try loading this page with nbviewer.org.</b></div><div class=\"sk-container\" hidden><div class=\"sk-item\"><div class=\"sk-estimator fitted sk-toggleable\"><input class=\"sk-toggleable__control sk-hidden--visually\" id=\"sk-estimator-id-1\" type=\"checkbox\" checked><label for=\"sk-estimator-id-1\" class=\"sk-toggleable__label fitted sk-toggleable__label-arrow fitted\">&nbsp;XGBClassifier<span class=\"sk-estimator-doc-link fitted\">i<span>Fitted</span></span></label><div class=\"sk-toggleable__content fitted\"><pre>XGBClassifier(base_score=None, booster=None, callbacks=None,\n",
              "              colsample_bylevel=None, colsample_bynode=None,\n",
              "              colsample_bytree=0.7108944060769855, device=None,\n",
              "              early_stopping_rounds=None, enable_categorical=False,\n",
              "              eval_metric=&#x27;logloss&#x27;, feature_types=None, gamma=None,\n",
              "              grow_policy=None, importance_type=None,\n",
              "              interaction_constraints=None, learning_rate=0.03848047596032133,\n",
              "              max_bin=None, max_cat_threshold=None, max_cat_to_onehot=None,\n",
              "              max_delta_step=None, max_depth=6, max_leaves=None,\n",
              "              min_child_weight=None, min_samples_leaf=6, min_samples_split=9,\n",
              "              missing=nan, monotone_constraints=None, multi_strategy=None,\n",
              "              n_estimators=400, n_jobs=None, ...)</pre></div> </div></div></div></div>"
            ]
          },
          "metadata": {},
          "execution_count": 61
        }
      ]
    },
    {
      "cell_type": "code",
      "source": [
        "from sklearn.metrics import accuracy_score,precision_score,recall_score,f1_score,roc_auc_score, confusion_matrix\n",
        "y_pred=final_xgb_model.predict(X_test)\n",
        "Y_pred_prob=final_xgb_model.predict_proba(X_test)[:,1]\n",
        "\n",
        "#Evaluation\n",
        "accuracy=accuracy_score(Y_test,y_pred)\n",
        "precision=precision_score(Y_test,y_pred)\n",
        "recall=recall_score(Y_test,y_pred)\n",
        "f1=f1_score(Y_test,y_pred)\n",
        "auc=roc_auc_score(Y_test,Y_pred_prob)\n",
        "\n",
        "print(f'Accuracy: {accuracy:.4}')\n",
        "print(f'Precision: {precision:.4}')\n",
        "print(f'Recall: {recall:.4}')\n",
        "print(f'F1 Score: {f1:.4}')\n",
        "print(f'AUC: {auc:.4}')"
      ],
      "metadata": {
        "colab": {
          "base_uri": "https://localhost:8080/"
        },
        "id": "SIsvfhLrdYZG",
        "outputId": "a0ea8420-383d-4f7f-c2c3-a429f9597fb2"
      },
      "execution_count": null,
      "outputs": [
        {
          "output_type": "stream",
          "name": "stdout",
          "text": [
            "Accuracy: 0.7892\n",
            "Precision: 0.5705\n",
            "Recall: 0.2787\n",
            "F1 Score: 0.3745\n",
            "AUC: 0.8043\n"
          ]
        }
      ]
    },
    {
      "cell_type": "code",
      "source": [
        "import shap\n",
        "\n",
        "explainer=shap.TreeExplainer(final_xgb_model)\n",
        "shap_values=explainer.shap_values(X_test)\n",
        "\n",
        "shap.summary_plot(shap_values,X_test,plot_type='bar')"
      ],
      "metadata": {
        "colab": {
          "base_uri": "https://localhost:8080/",
          "height": 333
        },
        "id": "BerzGvy6eFDC",
        "outputId": "d434ecb5-cedb-4274-dd5f-89b3e80024a2"
      },
      "execution_count": null,
      "outputs": [
        {
          "output_type": "display_data",
          "data": {
            "text/plain": [
              "<Figure size 800x390 with 1 Axes>"
            ],
            "image/png": "[encoded data removed]"
          },
          "metadata": {}
        }
      ]
    },
    {
      "cell_type": "code",
      "source": [
        "'''\n",
        "from sklearn.preprocessing import PolynomialFeatures\n",
        "poly=PolynomialFeatures(degree=2,interaction_only=True,include_bias=False)\n",
        "\n",
        "X_poly=poly.fit_transform(X)\n",
        "\n",
        "X_poly_df=pd.DataFrame(X_poly,columns=poly.get_feature_names_out(features))\n",
        "\n",
        "X_train_poly,X_test_poly,Y_train_poly,Y_test_poly=train_test_split(X_poly_df,Y,test_size=0.2,random_state=42)\n",
        "'''"
      ],
      "metadata": {
        "id": "A89UffRTeLWO",
        "colab": {
          "base_uri": "https://localhost:8080/",
          "height": 110
        },
        "outputId": "c891f230-9a3a-4961-d5a3-7a62b0583755"
      },
      "execution_count": null,
      "outputs": [
        {
          "output_type": "execute_result",
          "data": {
            "text/plain": [
              "'\\nfrom sklearn.preprocessing import PolynomialFeatures\\npoly=PolynomialFeatures(degree=2,interaction_only=True,include_bias=False)\\n\\nX_poly=poly.fit_transform(X)\\n\\nX_poly_df=pd.DataFrame(X_poly,columns=poly.get_feature_names_out(features))\\n\\nX_train_poly,X_test_poly,Y_train_poly,Y_test_poly=train_test_split(X_poly_df,Y,test_size=0.2,random_state=42)\\n'"
            ],
            "application/vnd.google.colaboratory.intrinsic+json": {
              "type": "string"
            }
          },
          "metadata": {},
          "execution_count": 64
        }
      ]
    },
    {
      "cell_type": "code",
      "source": [
        "'''y_pred=final_xgb_model.predict(X_test)\n",
        "Y_pred_prob=final_xgb_model.predict_proba(X_test)[:,1]\n",
        "\n",
        "accuracy=accuracy_score(Y_test,y_pred)\n",
        "precision=precision_score(Y_test,y_pred)\n",
        "recall=recall_score(Y_test,y_pred)\n",
        "f1=f1_score(Y_test,y_pred)\n",
        "auc=roc_auc_score(Y_test,Y_pred_prob)\n",
        "\n",
        "print(f'Accuracy: {accuracy:.4}')\n",
        "print(f'Precision: {precision:.4}')\n",
        "print(f'Recall: {recall:.4}')\n",
        "print(f'F1 Score: {f1:.4}')\n",
        "print(f'AUC: {auc:.4}')\n",
        "'''"
      ],
      "metadata": {
        "colab": {
          "base_uri": "https://localhost:8080/",
          "height": 128
        },
        "id": "OwmeMbb_q1CF",
        "outputId": "5211e2fd-7335-4fb9-a354-11d56b0a9ad8"
      },
      "execution_count": null,
      "outputs": [
        {
          "output_type": "execute_result",
          "data": {
            "text/plain": [
              "\"y_pred=final_xgb_model.predict(X_test)\\nY_pred_prob=final_xgb_model.predict_proba(X_test)[:,1]\\n\\naccuracy=accuracy_score(Y_test,y_pred)\\nprecision=precision_score(Y_test,y_pred)\\nrecall=recall_score(Y_test,y_pred)\\nf1=f1_score(Y_test,y_pred)\\nauc=roc_auc_score(Y_test,Y_pred_prob)\\n\\nprint(f'Accuracy: {accuracy:.4}')\\nprint(f'Precision: {precision:.4}')\\nprint(f'Recall: {recall:.4}')\\nprint(f'F1 Score: {f1:.4}')\\nprint(f'AUC: {auc:.4}')\\n\""
            ],
            "application/vnd.google.colaboratory.intrinsic+json": {
              "type": "string"
            }
          },
          "metadata": {},
          "execution_count": 65
        }
      ]
    },
    {
      "cell_type": "markdown",
      "source": [
        "<h1><b>Tesing</b></h1>"
      ],
      "metadata": {
        "id": "eHzAKaJ6K1Pc"
      }
    },
    {
      "cell_type": "code",
      "source": [
        "vote = final_xgb_model.predict(X_test)\n",
        "vote_prob = final_xgb_model.predict_proba(X_test)[:, 1]\n",
        "\n",
        "output = X_test.copy()\n",
        "output['vote'] = vote\n",
        "output['vote_probability'] =vote_prob\n",
        "output.to_csv('output.csv', index=False)\n",
        "\n",
        "print(\"CSV file\")"
      ],
      "metadata": {
        "colab": {
          "base_uri": "https://localhost:8080/"
        },
        "id": "YkfNxMJH-04R",
        "outputId": "70e52dc0-943d-48a3-d037-660e2e2c1814"
      },
      "execution_count": null,
      "outputs": [
        {
          "output_type": "stream",
          "name": "stdout",
          "text": [
            "CSV file\n"
          ]
        }
      ]
    },
    {
      "cell_type": "code",
      "source": [
        "new_df=pd.read_csv('output.csv')\n",
        "new_df['vote'].value_counts()"
      ],
      "metadata": {
        "colab": {
          "base_uri": "https://localhost:8080/",
          "height": 178
        },
        "id": "PML5SLMdGFrU",
        "outputId": "cf816b82-7c57-4e66-de4a-5d8a99236b0e"
      },
      "execution_count": null,
      "outputs": [
        {
          "output_type": "execute_result",
          "data": {
            "text/plain": [
              "vote\n",
              "0    8894\n",
              "1    1106\n",
              "Name: count, dtype: int64"
            ],
            "text/html": [
              "<div>\n",
              "<style scoped>\n",
              "    .dataframe tbody tr th:only-of-type {\n",
              "        vertical-align: middle;\n",
              "    }\n",
              "\n",
              "    .dataframe tbody tr th {\n",
              "        vertical-align: top;\n",
              "    }\n",
              "\n",
              "    .dataframe thead th {\n",
              "        text-align: right;\n",
              "    }\n",
              "</style>\n",
              "<table border=\"1\" class=\"dataframe\">\n",
              "  <thead>\n",
              "    <tr style=\"text-align: right;\">\n",
              "      <th></th>\n",
              "      <th>count</th>\n",
              "    </tr>\n",
              "    <tr>\n",
              "      <th>vote</th>\n",
              "      <th></th>\n",
              "    </tr>\n",
              "  </thead>\n",
              "  <tbody>\n",
              "    <tr>\n",
              "      <th>0</th>\n",
              "      <td>8894</td>\n",
              "    </tr>\n",
              "    <tr>\n",
              "      <th>1</th>\n",
              "      <td>1106</td>\n",
              "    </tr>\n",
              "  </tbody>\n",
              "</table>\n",
              "</div><br><label><b>dtype:</b> int64</label>"
            ]
          },
          "metadata": {},
          "execution_count": 67
        }
      ]
    },
    {
      "cell_type": "code",
      "source": [
        "'''\n",
        "def objective_ply(trial):\n",
        "  params={\n",
        "      'n_estimators':trial.suggest_int('n_estimators',100,1000,step=100),\n",
        "      'max_depth':trial.suggest_int('max_depth',3,10),\n",
        "      'learning_rate':trial.suggest_float('learning_rate',0.001,0.1),\n",
        "      'subsample':trial.suggest_float('subsample',0.5,1.0),\n",
        "      'colsample_bytree':trial.suggest_float('colsample_bytree',0.5,1.0),\n",
        "      'min_samples_split':trial.suggest_int('min_samples_split',2,10),\n",
        "      'min_samples_leaf':trial.suggest_int('min_samples_leaf',1,10)\n",
        "  }\n",
        "  xgb_model=xgb.XGBClassifier(**params,use_label_encoder=False,eval_metric='logloss')\n",
        "\n",
        "  return cross_val_score(xgb_model,X_train_poly,Y_train_poly,cv=5).mean()\n",
        "  '''"
      ],
      "metadata": {
        "colab": {
          "base_uri": "https://localhost:8080/",
          "height": 184
        },
        "id": "ZvbKb_XciATB",
        "outputId": "87932d7d-351d-408e-df2a-2c819930109f"
      },
      "execution_count": null,
      "outputs": [
        {
          "output_type": "execute_result",
          "data": {
            "text/plain": [
              "\"\\ndef objective_ply(trial):\\n  params={\\n      'n_estimators':trial.suggest_int('n_estimators',100,1000,step=100),\\n      'max_depth':trial.suggest_int('max_depth',3,10),\\n      'learning_rate':trial.suggest_float('learning_rate',0.001,0.1),\\n      'subsample':trial.suggest_float('subsample',0.5,1.0),\\n      'colsample_bytree':trial.suggest_float('colsample_bytree',0.5,1.0),\\n      'min_samples_split':trial.suggest_int('min_samples_split',2,10),\\n      'min_samples_leaf':trial.suggest_int('min_samples_leaf',1,10)\\n  }\\n  xgb_model=xgb.XGBClassifier(**params,use_label_encoder=False,eval_metric='logloss')\\n\\n  return cross_val_score(xgb_model,X_train_poly,Y_train_poly,cv=5).mean()\\n  \""
            ],
            "application/vnd.google.colaboratory.intrinsic+json": {
              "type": "string"
            }
          },
          "metadata": {},
          "execution_count": 68
        }
      ]
    },
    {
      "cell_type": "code",
      "source": [
        "'''\n",
        "learning_poly=optuna.create_study(direction='maximize')\n",
        "learning_poly.optimize(objective_ply,n_trials=20)\n",
        "'''"
      ],
      "metadata": {
        "colab": {
          "base_uri": "https://localhost:8080/",
          "height": 55
        },
        "id": "Sj4csnV1twjg",
        "outputId": "1ee7846e-7309-4dab-da55-c889620ef1ee"
      },
      "execution_count": null,
      "outputs": [
        {
          "output_type": "execute_result",
          "data": {
            "text/plain": [
              "\"\\nlearning_poly=optuna.create_study(direction='maximize')\\nlearning_poly.optimize(objective_ply,n_trials=20)\\n\""
            ],
            "application/vnd.google.colaboratory.intrinsic+json": {
              "type": "string"
            }
          },
          "metadata": {},
          "execution_count": 69
        }
      ]
    },
    {
      "cell_type": "code",
      "source": [
        "'''best_params_poly=learning_poly.best_params\n",
        "print(best_params_poly)'''"
      ],
      "metadata": {
        "colab": {
          "base_uri": "https://localhost:8080/",
          "height": 36
        },
        "id": "UWXieNpvy516",
        "outputId": "cc061c5c-a1ef-46a9-b5ed-c4d173b6ce89"
      },
      "execution_count": null,
      "outputs": [
        {
          "output_type": "execute_result",
          "data": {
            "text/plain": [
              "'best_params_poly=learning_poly.best_params\\nprint(best_params_poly)'"
            ],
            "application/vnd.google.colaboratory.intrinsic+json": {
              "type": "string"
            }
          },
          "metadata": {},
          "execution_count": 70
        }
      ]
    },
    {
      "cell_type": "code",
      "source": [
        "'''final_xgb_model_poly=xgb.XGBClassifier(**best_params_poly,use_label_encoder=False,eval_metric='logloss')\n",
        "final_xgb_model_poly.fit(X_train_poly,Y_train_poly)'''"
      ],
      "metadata": {
        "colab": {
          "base_uri": "https://localhost:8080/",
          "height": 55
        },
        "id": "mpp5-a3GzCqu",
        "outputId": "d25ebc47-bae2-4e66-a11c-2e8122d9d24e"
      },
      "execution_count": null,
      "outputs": [
        {
          "output_type": "execute_result",
          "data": {
            "text/plain": [
              "\"final_xgb_model_poly=xgb.XGBClassifier(**best_params_poly,use_label_encoder=False,eval_metric='logloss')\\nfinal_xgb_model_poly.fit(X_train_poly,Y_train_poly)\""
            ],
            "application/vnd.google.colaboratory.intrinsic+json": {
              "type": "string"
            }
          },
          "metadata": {},
          "execution_count": 71
        }
      ]
    },
    {
      "cell_type": "code",
      "source": [
        "'''y_pred_poly=final_xgb_model_poly.predict(X_test_poly)\n",
        "Y_pred_prob_poly=final_xgb_model_poly.predict_proba(X_test_poly)[:,1]\n",
        "\n",
        "accuracy_poly=accuracy_score(Y_test_poly,y_pred_poly)\n",
        "precision_poly=precision_score(Y_test_poly,y_pred_poly)\n",
        "recall_poly=recall_score(Y_test_poly,y_pred_poly)\n",
        "f1_poly=f1_score(Y_test_poly,y_pred_poly)\n",
        "auc_poly=roc_auc_score(Y_test_poly,Y_pred_prob_poly)\n",
        "\n",
        "print(f'Accuracy: {accuracy_poly:.4}')\n",
        "print(f'Precision: {precision_poly:.4}')\n",
        "print(f'Recall: {recall_poly:.4}')\n",
        "print(f'F1 Score: {f1_poly:.4}')'''"
      ],
      "metadata": {
        "colab": {
          "base_uri": "https://localhost:8080/",
          "height": 147
        },
        "id": "DFga2xpDzMwW",
        "outputId": "65761943-87c2-4aac-9348-8bc3a5043380"
      },
      "execution_count": null,
      "outputs": [
        {
          "output_type": "execute_result",
          "data": {
            "text/plain": [
              "\"y_pred_poly=final_xgb_model_poly.predict(X_test_poly)\\nY_pred_prob_poly=final_xgb_model_poly.predict_proba(X_test_poly)[:,1]\\n\\naccuracy_poly=accuracy_score(Y_test_poly,y_pred_poly)\\nprecision_poly=precision_score(Y_test_poly,y_pred_poly)\\nrecall_poly=recall_score(Y_test_poly,y_pred_poly)\\nf1_poly=f1_score(Y_test_poly,y_pred_poly)\\nauc_poly=roc_auc_score(Y_test_poly,Y_pred_prob_poly)\\n\\nprint(f'Accuracy: {accuracy_poly:.4}')\\nprint(f'Precision: {precision_poly:.4}')\\nprint(f'Recall: {recall_poly:.4}')\\nprint(f'F1 Score: {f1_poly:.4}')\""
            ],
            "application/vnd.google.colaboratory.intrinsic+json": {
              "type": "string"
            }
          },
          "metadata": {},
          "execution_count": 72
        }
      ]
    },
    {
      "cell_type": "code",
      "source": [
        "'''from sklearn.linear_model import Ridge\n",
        "ridge_model=Ridge(alpha=0.1)\n",
        "ridge_model.fit(X_train,Y_train)\n",
        "\n",
        "Y_pred_reg=ridge_model.predict(X_test)'''\n"
      ],
      "metadata": {
        "id": "0g0M7bIIzLm_",
        "colab": {
          "base_uri": "https://localhost:8080/",
          "height": 55
        },
        "outputId": "e2389e10-b0c6-4e72-e21c-637c7f81ab2f"
      },
      "execution_count": null,
      "outputs": [
        {
          "output_type": "execute_result",
          "data": {
            "text/plain": [
              "'from sklearn.linear_model import Ridge\\nridge_model=Ridge(alpha=0.1)\\nridge_model.fit(X_train,Y_train)\\n\\nY_pred_reg=ridge_model.predict(X_test)'"
            ],
            "application/vnd.google.colaboratory.intrinsic+json": {
              "type": "string"
            }
          },
          "metadata": {},
          "execution_count": 73
        }
      ]
    },
    {
      "cell_type": "code",
      "source": [
        "'''from sklearn.metrics import confusion_matrix\n",
        "from sklearn.metrics import accuracy_score,precision_score,recall_score,f1_score,roc_auc_score, confusion_matrix\n",
        "Y_pred_reg=np.where(Y_pred_reg>=0.5,1,0)\n",
        "print(confusion_matrix(Y_test,Y_pred_reg))\n",
        "accuracy=accuracy_score(Y_test,Y_pred_reg)\n",
        "precision=precision_score(Y_test,Y_pred_reg)\n",
        "recall=recall_score(Y_test,Y_pred_reg)\n",
        "f1=f1_score(Y_test,Y_pred_reg)\n",
        "auc=roc_auc_score(Y_test,Y_pred_reg)\n",
        "\n",
        "print(f'Accuracy: {accuracy:.4}')\n",
        "print(f'Precision: {precision:.4}')\n",
        "print(f'Recall: {recall:.4}')\n",
        "print(f'F1 Score: {f1:.4}')\n",
        "print(f'AUC: {auc:.4}')\n",
        "\n",
        "\n",
        "\n",
        "\n",
        "'''\n",
        "\n"
      ],
      "metadata": {
        "colab": {
          "base_uri": "https://localhost:8080/",
          "height": 165
        },
        "id": "KSSfCQ0b0HBf",
        "outputId": "94cb87d8-b4e3-4294-e91e-f65bd8123da4"
      },
      "execution_count": null,
      "outputs": [
        {
          "output_type": "execute_result",
          "data": {
            "text/plain": [
              "\"from sklearn.metrics import confusion_matrix\\nfrom sklearn.metrics import accuracy_score,precision_score,recall_score,f1_score,roc_auc_score, confusion_matrix\\nY_pred_reg=np.where(Y_pred_reg>=0.5,1,0)\\nprint(confusion_matrix(Y_test,Y_pred_reg))\\naccuracy=accuracy_score(Y_test,Y_pred_reg)\\nprecision=precision_score(Y_test,Y_pred_reg)\\nrecall=recall_score(Y_test,Y_pred_reg)\\nf1=f1_score(Y_test,Y_pred_reg)\\nauc=roc_auc_score(Y_test,Y_pred_reg)\\n\\nprint(f'Accuracy: {accuracy:.4}')\\nprint(f'Precision: {precision:.4}')\\nprint(f'Recall: {recall:.4}')\\nprint(f'F1 Score: {f1:.4}')\\nprint(f'AUC: {auc:.4}')\\n\\n\\n\\n\\n\""
            ],
            "application/vnd.google.colaboratory.intrinsic+json": {
              "type": "string"
            }
          },
          "metadata": {},
          "execution_count": 74
        }
      ]
    }
  ]
}